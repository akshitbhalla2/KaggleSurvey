{
 "cells": [
  {
   "cell_type": "markdown",
   "metadata": {
    "scrolled": true
   },
   "source": [
    "Import libraries"
   ]
  },
  {
   "cell_type": "code",
   "execution_count": 1,
   "metadata": {},
   "outputs": [],
   "source": [
    "from tqdm import tqdm # To check completion of loops\n",
    "from geopy.geocoders import Nominatim # To obtain coordinates and address given the name\n",
    "import folium # For making maps\n",
    "from folium.plugins import MarkerCluster # To make maps\n",
    "import pandas as pd # For DataFrame operations"
   ]
  },
  {
   "cell_type": "markdown",
   "metadata": {},
   "source": [
    "Obtain list of names, coordinates (lat and lon), and addresses under each category (Malls, Restaurants, Offices)"
   ]
  },
  {
   "cell_type": "code",
   "execution_count": 2,
   "metadata": {},
   "outputs": [],
   "source": [
    "def GetData(name):\n",
    "    # Define path of file\n",
    "    MyPath = \"commercial.xlsx\"\n",
    "    # Read file\n",
    "    excel = pd.ExcelFile(MyPath) \n",
    "    # Read sheet in file\n",
    "    df = excel.parse(name, header = None)\n",
    "    # Preprocess\n",
    "    if name == \"Malls\":\n",
    "        df[0] += \" Mall\"\n",
    "    \n",
    "    AddList = []\n",
    "    LatList = []\n",
    "    LonList = []\n",
    "    \n",
    "    # Define geolocator \n",
    "    geolocator = Nominatim(user_agent = \"Akshit Bhalla\", timeout = 1000)\n",
    "    # Obtain required\n",
    "    for item in tqdm(df[0]):\n",
    "        location = geolocator.geocode(str(item) + \", Bangalore\")\n",
    "        \n",
    "        AddList.append(location.address)\n",
    "        LatList.append(location.latitude) \n",
    "        LonList.append(location.longitude)\n",
    "    \n",
    "    return(list(df[0].values), LatList, LonList, AddList)"
   ]
  },
  {
   "cell_type": "code",
   "execution_count": 3,
   "metadata": {},
   "outputs": [
    {
     "name": "stderr",
     "output_type": "stream",
     "text": [
      "100%|██████████| 35/35 [00:18<00:00,  1.90it/s]\n",
      "100%|██████████| 35/35 [00:18<00:00,  1.88it/s]\n"
     ]
    }
   ],
   "source": [
    "malls, mall_lat, mall_lon, mall_add = GetData(\"Malls\")\n",
    "restaurants, restaurant_lat, restaurant_lon, restaurant_add = GetData(\"Restaurants\")\n",
    "# offices, office_lat, office_lon, office_add = GetData(\"Offices\")"
   ]
  },
  {
   "cell_type": "markdown",
   "metadata": {},
   "source": [
    "Mapping"
   ]
  },
  {
   "cell_type": "code",
   "execution_count": 4,
   "metadata": {},
   "outputs": [],
   "source": [
    "# Define map\n",
    "MyMap = folium.Map(\n",
    "    location = (12.9716, 77.5946), # Coordinates of Bangalore\n",
    "    zoom_start = 10\n",
    ")"
   ]
  },
  {
   "cell_type": "code",
   "execution_count": 5,
   "metadata": {},
   "outputs": [],
   "source": [
    "# Function to make elements to be displayed on the map\n",
    "def MakeMap(name, cat, lat, lon, add, mc):\n",
    "    if name == \"Mall\":\n",
    "        color = \"blue\"\n",
    "    elif name == \"Restaurant\":\n",
    "        color = \"green\"\n",
    "    else:\n",
    "        color = \"red\"\n",
    "    \n",
    "    for i in range(35):\n",
    "#         mc.add_child(\n",
    "        marker = folium.Marker(\n",
    "                location = (lat[i], lon[i]),\n",
    "                popup = (\n",
    "                    \"<b>\" + name + \":</b> {}<br>\"\n",
    "                    \"<b>Address:</b> {}\"\n",
    "                ).format(cat[i], add[i]),\n",
    "                icon = folium.Icon(color = color)\n",
    "            )\n",
    "#         )\n",
    "        \n",
    "    return marker\n",
    "#     return mc\n",
    "            "
   ]
  },
  {
   "cell_type": "code",
   "execution_count": 6,
   "metadata": {},
   "outputs": [],
   "source": [
    "mc1 = MakeMap(\"Mall\", malls, mall_lat, mall_lon, mall_add, MarkerCluster())\n",
    "mc2 = MakeMap(\"Restaurant\", restaurants, restaurant_lat, restaurant_lon, restaurant_add, MarkerCluster())\n",
    "# mc3 = MakeMap(\"Office\", offices, office_lat, office_lon, office_add, MarkerCluster())"
   ]
  },
  {
   "cell_type": "code",
   "execution_count": 7,
   "metadata": {},
   "outputs": [
    {
     "data": {
      "text/html": [
       "<div style=\"width:100%;\"><div style=\"position:relative;width:100%;height:0;padding-bottom:60%;\"><span style=\"color:#565656\">Make this Notebook Trusted to load map: File -> Trust Notebook</span><iframe src=\"about:blank\" style=\"position:absolute;width:100%;height:100%;left:0;top:0;border:none !important;\" data-html=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 onload=\"this.contentDocument.open();this.contentDocument.write(atob(this.getAttribute('data-html')));this.contentDocument.close();\" allowfullscreen webkitallowfullscreen mozallowfullscreen></iframe></div></div>"
      ],
      "text/plain": [
       "<folium.folium.Map at 0x7f2d6d3a1dc0>"
      ]
     },
     "execution_count": 7,
     "metadata": {},
     "output_type": "execute_result"
    }
   ],
   "source": [
    "# Create groups of features\n",
    "fg1 = folium.FeatureGroup(name = \"malls\")\n",
    "fg2 = folium.FeatureGroup(name = \"restraunts\")\n",
    "# fg3 = folium.FeatureGroup(name = \"offices\")\n",
    "# Add elements to respective groups\n",
    "mc1.add_to(fg1)\n",
    "mc2.add_to(fg2)\n",
    "# mc3.add_to(fg3)\n",
    "# Add groups to map\n",
    "MyMap.add_child(fg1)\n",
    "MyMap.add_child(fg2)\n",
    "# MyMap.add_child(fg3)\n",
    "# Display map with layers\n",
    "MyMap.add_child(folium.LayerControl())"
   ]
  },
  {
   "cell_type": "code",
   "execution_count": 8,
   "metadata": {},
   "outputs": [],
   "source": [
    "# # Save Map as HTML\n",
    "# MyMap.save(\"MyMap.html\")"
   ]
  },
  {
   "cell_type": "code",
   "execution_count": 9,
   "metadata": {},
   "outputs": [],
   "source": [
    "# # Create DataFrame of necessary data\n",
    "# MyData = pd.DataFrame({\n",
    "#     \"Mall\" : malls,\n",
    "#     \"Latitude\" : mall_lat,\n",
    "#     \"Longitude\" : mall_lon,\n",
    "#     \"Address\" : mall_add,\n",
    "#     \"Restaurant\" : restaurants,\n",
    "#     \"Latitude\" : restaurant_lat,\n",
    "#     \"Longitude\" : restaurant_lon,\n",
    "#     \"Address\" : restaurant_add,\n",
    "#     \"Office\" : offices,\n",
    "#     \"Latitude\" : office_lat,\n",
    "#     \"Longitude\" : office_lon,\n",
    "#     \"Address\" : office_add\n",
    "# })"
   ]
  },
  {
   "cell_type": "code",
   "execution_count": 10,
   "metadata": {},
   "outputs": [],
   "source": [
    "# # Export DataFrame\n",
    "# MyData.to_csv(\"Commercial_Data.csv\") "
   ]
  }
 ],
 "metadata": {
  "kernelspec": {
   "display_name": "Python 3",
   "language": "python",
   "name": "python3"
  },
  "language_info": {
   "codemirror_mode": {
    "name": "ipython",
    "version": 3
   },
   "file_extension": ".py",
   "mimetype": "text/x-python",
   "name": "python",
   "nbconvert_exporter": "python",
   "pygments_lexer": "ipython3",
   "version": "3.8.5"
  }
 },
 "nbformat": 4,
 "nbformat_minor": 2
}
