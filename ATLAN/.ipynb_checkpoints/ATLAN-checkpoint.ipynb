{
 "cells": [
  {
   "cell_type": "markdown",
   "metadata": {
    "scrolled": true
   },
   "source": [
    "Import libraries"
   ]
  },
  {
   "cell_type": "code",
   "execution_count": 1,
   "metadata": {},
   "outputs": [],
   "source": [
    "from tqdm import tqdm # To check completion of loops\n",
    "from geopy.geocoders import Nominatim # To obtain coordinates and address given the name\n",
    "import folium # For making maps\n",
    "from folium.plugins import MarkerCluster # To make maps\n",
    "import pandas as pd # For DataFrame operations"
   ]
  },
  {
   "cell_type": "markdown",
   "metadata": {},
   "source": [
    "Obtain list of names, coordinates (lat and lon), and addresses under each category (Malls, Restaurants, Offices)"
   ]
  },
  {
   "cell_type": "code",
   "execution_count": 2,
   "metadata": {},
   "outputs": [],
   "source": [
    "def GetData(name):\n",
    "    # Define path of file\n",
    "    MyPath = \"commercial.xlsx\"\n",
    "    # Read file\n",
    "    excel = pd.ExcelFile(MyPath) \n",
    "    # Read sheet in file\n",
    "    df = excel.parse(name, header = None)\n",
    "    # Preprocess\n",
    "    if name == \"Malls\":\n",
    "        df[0] += \" Mall\"\n",
    "    \n",
    "    AddList = []\n",
    "    LatList = []\n",
    "    LonList = []\n",
    "    \n",
    "    # Define geolocator \n",
    "    geolocator = Nominatim(user_agent = \"Akshit Bhalla\", timeout = 1000)\n",
    "    # Obtain required\n",
    "    for item in tqdm(df[0]):\n",
    "        location = geolocator.geocode(str(item) + \", Bangalore\")\n",
    "        \n",
    "        AddList.append(location.address)\n",
    "        LatList.append(location.latitude) \n",
    "        LonList.append(location.longitude)\n",
    "    \n",
    "    return(list(df[0].values), LatList, LonList, AddList)"
   ]
  },
  {
   "cell_type": "code",
   "execution_count": 3,
   "metadata": {},
   "outputs": [
    {
     "name": "stderr",
     "output_type": "stream",
     "text": [
      "100%|██████████| 35/35 [00:18<00:00,  1.92it/s]\n",
      "100%|██████████| 35/35 [00:18<00:00,  1.94it/s]\n"
     ]
    }
   ],
   "source": [
    "malls, mall_lat, mall_lon, mall_add = GetData(\"Malls\")\n",
    "restaurants, restaurant_lat, restaurant_lon, restaurant_add = GetData(\"Restaurants\")\n",
    "# offices, office_lat, office_lon, office_add = GetData(\"Offices\")"
   ]
  },
  {
   "cell_type": "markdown",
   "metadata": {},
   "source": [
    "Mapping"
   ]
  },
  {
   "cell_type": "code",
   "execution_count": 4,
   "metadata": {},
   "outputs": [],
   "source": [
    "# Define map\n",
    "MyMap = folium.Map(\n",
    "    location = (12.9716, 77.5946), # Coordinates of Bangalore\n",
    "    zoom_start = 10\n",
    ")"
   ]
  },
  {
   "cell_type": "code",
   "execution_count": 5,
   "metadata": {},
   "outputs": [],
   "source": [
    "# Function to make elements to be displayed on the map\n",
    "def MakeMap(name, cat, lat, lon, add, mc):\n",
    "    if name == \"Mall\":\n",
    "        color = \"blue\"\n",
    "    elif name == \"Restaurant\":\n",
    "        color = \"green\"\n",
    "    else:\n",
    "        color = \"red\"\n",
    "    \n",
    "    for i in range(35):\n",
    "#         mc.add_child(\n",
    "        marker = folium.Marker(\n",
    "                location = (lat[i], lon[i]),\n",
    "                popup = (\n",
    "                    \"<b>\" + name + \":</b> {}<br>\"\n",
    "                    \"<b>Address:</b> {}\"\n",
    "                ).format(cat[i], add[i]),\n",
    "                icon = folium.Icon(color = color)\n",
    "            )\n",
    "#         )\n",
    "        \n",
    "    return marker\n",
    "#     return mc\n",
    "            "
   ]
  },
  {
   "cell_type": "code",
   "execution_count": 6,
   "metadata": {},
   "outputs": [],
   "source": [
    "mc1 = MakeMap(\"Mall\", malls, mall_lat, mall_lon, mall_add, MarkerCluster())\n",
    "mc2 = MakeMap(\"Restaurant\", restaurants, restaurant_lat, restaurant_lon, restaurant_add, MarkerCluster())\n",
    "# mc3 = MakeMap(\"Office\", offices, office_lat, office_lon, office_add, MarkerCluster())"
   ]
  },
  {
   "cell_type": "code",
   "execution_count": 7,
   "metadata": {},
   "outputs": [
    {
     "data": {
      "text/html": [
       "<div style=\"width:100%;\"><div style=\"position:relative;width:100%;height:0;padding-bottom:60%;\"><span style=\"color:#565656\">Make this Notebook Trusted to load map: File -> Trust Notebook</span><iframe src=\"about:blank\" style=\"position:absolute;width:100%;height:100%;left:0;top:0;border:none !important;\" data-html=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 onload=\"this.contentDocument.open();this.contentDocument.write(atob(this.getAttribute('data-html')));this.contentDocument.close();\" allowfullscreen webkitallowfullscreen mozallowfullscreen></iframe></div></div>"
      ],
      "text/plain": [
       "<folium.folium.Map at 0x7fcd1e5c37c0>"
      ]
     },
     "execution_count": 7,
     "metadata": {},
     "output_type": "execute_result"
    }
   ],
   "source": [
    "# Create groups of features\n",
    "fg1 = folium.FeatureGroup(name = \"malls\")\n",
    "fg2 = folium.FeatureGroup(name = \"restraunts\")\n",
    "# fg3 = folium.FeatureGroup(name = \"offices\")\n",
    "# Add elements to respective groups\n",
    "mc1.add_to(fg1)\n",
    "mc2.add_to(fg2)\n",
    "# mc3.add_to(fg3)\n",
    "# Add groups to map\n",
    "MyMap.add_child(fg1)\n",
    "MyMap.add_child(fg2)\n",
    "# MyMap.add_child(fg3)\n",
    "# Display map with layers\n",
    "MyMap.add_child(folium.LayerControl())"
   ]
  },
  {
   "cell_type": "code",
   "execution_count": 8,
   "metadata": {},
   "outputs": [],
   "source": [
    "# # Save Map as HTML\n",
    "# MyMap.save(\"MyMap.html\")"
   ]
  },
  {
   "cell_type": "code",
   "execution_count": 9,
   "metadata": {},
   "outputs": [],
   "source": [
    "# # Create DataFrame of necessary data\n",
    "# MyData = pd.DataFrame({\n",
    "#     \"Mall\" : malls,\n",
    "#     \"Latitude\" : mall_lat,\n",
    "#     \"Longitude\" : mall_lon,\n",
    "#     \"Address\" : mall_add,\n",
    "#     \"Restaurant\" : restaurants,\n",
    "#     \"Latitude\" : restaurant_lat,\n",
    "#     \"Longitude\" : restaurant_lon,\n",
    "#     \"Address\" : restaurant_add,\n",
    "#     \"Office\" : offices,\n",
    "#     \"Latitude\" : office_lat,\n",
    "#     \"Longitude\" : office_lon,\n",
    "#     \"Address\" : office_add\n",
    "# })"
   ]
  },
  {
   "cell_type": "code",
   "execution_count": 10,
   "metadata": {},
   "outputs": [],
   "source": [
    "# # Export DataFrame\n",
    "# MyData.to_csv(\"Commercial_Data.csv\") "
   ]
  }
 ],
 "metadata": {
  "kernelspec": {
   "display_name": "Python 3",
   "language": "python",
   "name": "python3"
  },
  "language_info": {
   "codemirror_mode": {
    "name": "ipython",
    "version": 3
   },
   "file_extension": ".py",
   "mimetype": "text/x-python",
   "name": "python",
   "nbconvert_exporter": "python",
   "pygments_lexer": "ipython3",
   "version": "3.8.5"
  }
 },
 "nbformat": 4,
 "nbformat_minor": 2
}
