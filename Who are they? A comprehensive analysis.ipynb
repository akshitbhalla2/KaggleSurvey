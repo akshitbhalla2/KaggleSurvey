{
 "cells": [
  {
   "cell_type": "markdown",
   "metadata": {},
   "source": [
    "# Who are they?"
   ]
  },
  {
   "cell_type": "markdown",
   "metadata": {},
   "source": [
    "<img src=\"https://upload.wikimedia.org/wikipedia/commons/thumb/4/48/Gay_Pride_Flag.svg/1024px-Gay_Pride_Flag.svg.png\" alt=\"Drawing\" style=\"width: 1500px; height:150px\"/>"
   ]
  },
  {
   "cell_type": "code",
   "execution_count": null,
   "metadata": {
    "_kg_hide-input": true
   },
   "outputs": [],
   "source": [
    "from IPython.display import Markdown, display"
   ]
  },
  {
   "cell_type": "code",
   "execution_count": null,
   "metadata": {
    "_kg_hide-input": true
   },
   "outputs": [],
   "source": [
    "def content(text):\n",
    "    \"\"\" This function allows you to output content \"\"\"\n",
    "    my_response = \"<div style= 'background-color:rgb(247, 247, 247); border:1px solid rgb(207,207,207); border-color:rgb(107,107,107); padding: 10px'> \\\n",
    "    <span style='color: black;  font-family: medium-content-serif-font, Georgia, Cambria, 'Times New Roman', Times, serif; \\\n",
    "    font-weight: 400; letter-spacing: -0.004em; line-height: 1.58; '>\"+ text + \"</span></div>\"\n",
    "    display(Markdown(my_response))"
   ]
  },
  {
   "cell_type": "code",
   "execution_count": null,
   "metadata": {
    "_kg_hide-input": true
   },
   "outputs": [],
   "source": [
    "content(\n",
    "    \"This notebook explores the '2020 Kaggle Machine Learning & Data Science Survey' with a special focus \" +\n",
    "    \"on women and those who choose not to describe themself as man or woman. Notably, there is a difference \" +\n",
    "    \"between the words 'SEX' and 'GENDER'. While the former refers to biological attributes, the latter \" +\n",
    "    \"refers to socially constructed roles, behaviours, expressions and identities. \" + \"\\n\\n\" +\n",
    "    \"Through this notebook, I hope to introduce myself to the world of Data Visualization and \" +\n",
    "    \"Interpretation. Please consider giving an UPVOTE if you like it. Comment and let me know what you think!\"\n",
    ")"
   ]
  },
  {
   "cell_type": "code",
   "execution_count": null,
   "metadata": {
    "_cell_guid": "b1076dfc-b9ad-4769-8c92-a6c4dae69d19",
    "_kg_hide-input": true,
    "_uuid": "8f2839f25d086af736a60e9eeb907d3b93b6e0e5"
   },
   "outputs": [],
   "source": [
    "# Import libraries\n",
    "import numpy as np # linear algebra\n",
    "import pandas as pd # data wrangling\n",
    "\n",
    "# Plotting\n",
    "import matplotlib.pyplot as plt \n",
    "from matplotlib.patches import ConnectionPatch\n",
    "from mpl_toolkits.mplot3d import Axes3D\n",
    "import seaborn as sns\n",
    "sns.set(style = \"whitegrid\")\n",
    "import squarify\n",
    "import folium\n",
    "import itertools \n",
    "from matplotlib import cm\n",
    "from math import log10\n",
    "from sklearn.decomposition import PCA"
   ]
  },
  {
   "cell_type": "code",
   "execution_count": null,
   "metadata": {
    "_cell_guid": "79c7e3d0-c299-4dcb-8224-4455121ee9b0",
    "_kg_hide-input": true,
    "_kg_hide-output": true,
    "_uuid": "d629ff2d2480ee46fbb7e2d37f6b5fab8052498a"
   },
   "outputs": [],
   "source": [
    "data = pd.read_csv(\"kaggle_survey_2020_responses.csv\")"
   ]
  },
  {
   "cell_type": "markdown",
   "metadata": {},
   "source": [
    "# What is your gender?"
   ]
  },
  {
   "cell_type": "code",
   "execution_count": null,
   "metadata": {},
   "outputs": [],
   "source": [
    "content(\n",
    "    \"How does gender influence the decisions the Data Science and Machine Learning community makes? \\\n",
    "    Let's find out! But first, let's have a look at the proportion of participants we are interested in.\"\n",
    ")"
   ]
  },
  {
   "cell_type": "code",
   "execution_count": null,
   "metadata": {
    "_kg_hide-input": true,
    "_kg_hide-output": true
   },
   "outputs": [],
   "source": [
    "gender = data.loc[1:, \"Q2\"].value_counts()\n",
    "categories = list(gender.keys())\n",
    "palette = sns.color_palette(\"Set2\", len(categories)) \n",
    "colors1 = {k:v for k,v in zip(categories, palette)}\n",
    "colors2 = {k:v for k,v in zip(categories[:2] + [\"Others\"], palette[:2] + [(1, 0, 0)])}\n",
    "colors3 = {k:v for k,v in zip(categories[2:], palette[2:])}"
   ]
  },
  {
   "cell_type": "code",
   "execution_count": null,
   "metadata": {},
   "outputs": [],
   "source": [
    "gen1 = gender.to_frame()\n",
    "gen1.loc[\"others\"] =  gen1[2:].sum()\n",
    "gen1 = gen1.drop(categories[2:])\n",
    "gen1[\"Q2\"] = gen1[\"Q2\"]/gen1[\"Q2\"].sum() * 100\n",
    "\n",
    "gen2 = gender.to_frame()\n",
    "gen2[\"Q2\"] = gen2[\"Q2\"]/gen2[\"Q2\"].sum() * 100\n",
    "gen2 = gen2.drop(categories[:2])"
   ]
  },
  {
   "cell_type": "code",
   "execution_count": null,
   "metadata": {},
   "outputs": [],
   "source": [
    "# make figure and assign axis objects\n",
    "fig = plt.figure(figsize = (15, 7))\n",
    "ax1 = fig.add_subplot(121)\n",
    "ax2 = fig.add_subplot(122)\n",
    "fig.subplots_adjust(wspace = 0)\n",
    "\n",
    "# pie chart parameters\n",
    "ratios = gen1[\"Q2\"].values\n",
    "labels = colors2.keys() \n",
    "explode = [0, 0, 0.2]\n",
    "angle = ratios[-1]\n",
    "\n",
    "ax1.pie(\n",
    "    ratios, \n",
    "    autopct = \"%1.2f%%\", \n",
    "    startangle = angle,\n",
    "    labels = labels, \n",
    "    explode = explode,\n",
    "    colors = colors2.values(), \n",
    "    pctdistance = 0.85,\n",
    "    wedgeprops = dict(width = 0.5)\n",
    ")\n",
    "\n",
    "# bar chart parameters\n",
    "xpos = 0\n",
    "bottom = 0\n",
    "ratios = gen2[\"Q2\"].values\n",
    "width = .2\n",
    "\n",
    "for j in range(len(ratios)):\n",
    "    height = ratios[j]\n",
    "    ax2.bar(xpos, height, width, bottom = bottom, color = palette[2:][j])\n",
    "    ypos = bottom + ax2.patches[j].get_height() / 2\n",
    "    bottom += height\n",
    "    ax2.text(\n",
    "        xpos, ypos, \n",
    "        \"%.2f%%\" % (ax2.patches[j].get_height()) + \"\\n\" + categories[2:][j], \n",
    "        ha  = \"center\"\n",
    "    )\n",
    "\n",
    "ax2.set_title(\"Others\")\n",
    "ax2.axis('off')\n",
    "ax2.set_xlim(- 2.5 * width, 2.5 * width)\n",
    "\n",
    "# use ConnectionPatch to draw lines between the two plots\n",
    "theta1, theta2 = ax1.patches[-1].theta1, ax1.patches[-1].theta2\n",
    "center, r = ax1.patches[-1].center, ax1.patches[-1].r\n",
    "bar_height = sum([item.get_height() for item in ax2.patches])\n",
    "\n",
    "# draw top connecting line\n",
    "x = r * np.cos(np.pi / 180 * theta2) + center[0]\n",
    "y = r * np.sin(np.pi / 180 * theta2) + center[1]\n",
    "\n",
    "con = ConnectionPatch(\n",
    "    xyA = (-width / 2, bar_height), \n",
    "    coordsA = ax2.transData,\n",
    "    xyB = (x, y), \n",
    "    coordsB = ax1.transData\n",
    ")\n",
    "con.set_color([0, 0, 0])\n",
    "con.set_linewidth(0.5)\n",
    "ax2.add_artist(con)\n",
    "\n",
    "# draw bottom connecting line\n",
    "x = r * np.cos(np.pi / 180 * theta1) + center[0]\n",
    "y = r * np.sin(np.pi / 180 * theta1) + center[1]\n",
    "\n",
    "con = ConnectionPatch(\n",
    "    xyA = (-width / 2, 0), \n",
    "    coordsA = ax2.transData,\n",
    "    xyB = (x, y), \n",
    "    coordsB = ax1.transData\n",
    ")\n",
    "con.set_color([0, 0, 0])\n",
    "ax2.add_artist(con)\n",
    "con.set_linewidth(0.5)\n",
    "\n",
    "plt.show()"
   ]
  },
  {
   "cell_type": "code",
   "execution_count": null,
   "metadata": {},
   "outputs": [],
   "source": [
    "content(\n",
    "    \"Clearly, we are looking at a minority. 'Woman' makes up 19.36% while 'Prefer not to say',\\\n",
    "    'Prefer to self-describe' and 'Nonbinary' make up only 1.31%, 0.27% and 0.26% of the participants \\\n",
    "    respectively.\"\n",
    ")"
   ]
  },
  {
   "cell_type": "markdown",
   "metadata": {},
   "source": [
    "# In which country do you currently reside?"
   ]
  },
  {
   "cell_type": "code",
   "execution_count": null,
   "metadata": {},
   "outputs": [],
   "source": [
    "content(\n",
    "    \"Now let's have a look at which countries the participants belong to. Feel free to play around \" +\n",
    "    \"with the layering option at the right top corner to better understand the gender distribution over the \" +\n",
    "    \"world map. By hovering over the countries you will be able to see thier names. Click the points to see \" +\n",
    "    \"more information including the count of people. The geo-coordinates do not represent the exact\" +  \n",
    "    \"location of the participant.\"\n",
    ")"
   ]
  },
  {
   "cell_type": "code",
   "execution_count": null,
   "metadata": {},
   "outputs": [],
   "source": [
    "df = data.loc[1:, [\"Q2\", \"Q3\"]]\n",
    "\n",
    "df = df[df[\"Q3\"] != \"Other\"]\n",
    "\n",
    "df = df.rename(columns = {\n",
    "    \"Q2\": \"gender\",\n",
    "    \"Q3\": \"country\"\n",
    "})\n",
    "\n",
    "df[\"country\"] = df[\"country\"].replace({\n",
    "    \"Iran, Islamic Republic of...\": \"Iran, Islamic Republic of\",\n",
    "    \"Republic of Korea\": \"South Korea\",\n",
    "    \"United Kingdom of Great Britain and Northern Ireland\": \"United Kingdom\",\n",
    "    \"United States of America\": \"United States\",\n",
    "})\n",
    "\n",
    "temp = df.groupby([\"country\", \"gender\"]).size().reset_index(name = \"count\")\n",
    "\n",
    "link = \"https://gist.githubusercontent.com/tadast/8827699/raw/f5cac3d42d16b78348610fc4ec301e9234f82821/countries_codes_and_coordinates.csv\"\n",
    "coordinates = pd.read_csv(link)\n",
    "\n",
    "coordinates = coordinates.drop(columns = [\"Alpha-2 code\", \"Alpha-3 code\", \"Numeric code\"])\n",
    "\n",
    "coordinates = coordinates.rename(columns = {\n",
    "    \"Latitude (average)\": \"latitude\", \n",
    "    \"Longitude (average)\": \"longitude\",\n",
    "    \"Country\": \"country\"\n",
    "})\n",
    "\n",
    "coordinates[\"latitude\"] = coordinates[\"latitude\"].str.replace('\"', '').astype(float)\n",
    "coordinates[\"longitude\"] = coordinates[\"longitude\"].str.replace('\"', '').astype(float)\n",
    "\n",
    "temp = pd.merge(temp, coordinates)\n",
    "\n",
    "temp[\"latitude\"] = temp[\"latitude\"].astype(float) + np.random.normal(0, 1, temp.shape[0])\n",
    "temp[\"longitude\"] = temp[\"longitude\"].astype(float) + np.random.normal(0, 1, temp.shape[0])\n",
    "\n",
    "max_bubble_size = 30\n",
    "temp[\"count_size\"] = temp[\"count\"]/max(temp[\"count\"]) * max_bubble_size"
   ]
  },
  {
   "cell_type": "code",
   "execution_count": null,
   "metadata": {},
   "outputs": [],
   "source": [
    "def MakeMap(temp, fg):\n",
    "    mycolors = {\n",
    "        \"Man\": \"yellow\",\n",
    "        \"Woman\": \"orange\" ,\n",
    "        \"Prefer not to say\": \"blue\",\n",
    "        \"Prefer to self-describe\": \"red\",\n",
    "        \"Nonbinary\": \"green\"\n",
    "    } \n",
    "    \n",
    "    for i, row in temp.iterrows():\n",
    "        mycolor = mycolors[row[\"gender\"]]\n",
    "\n",
    "        html = \"{} <br> {} <br> {}\".format(row[\"country\"], row[\"gender\"], row[\"count\"])\n",
    "        iframe = folium.IFrame(\n",
    "            html,\n",
    "            width = 180,\n",
    "            height = 80\n",
    "        )\n",
    "\n",
    "        popup = folium.Popup(\n",
    "            iframe,\n",
    "            max_width = 180\n",
    "        )\n",
    "    \n",
    "        fg.add_child(\n",
    "            folium.CircleMarker(\n",
    "                location = (row[\"latitude\"], row[\"longitude\"]),\n",
    "                radius = row[\"count_size\"] + 0.05, \n",
    "                color = mycolor,\n",
    "                fill = True,\n",
    "                fill_color = mycolor,\n",
    "                fill_opacity = 0.3,\n",
    "                popup = popup,\n",
    "                tooltip = row[\"country\"]\n",
    "            )\n",
    "        )\n",
    "    \n",
    "    return fg"
   ]
  },
  {
   "cell_type": "code",
   "execution_count": null,
   "metadata": {},
   "outputs": [],
   "source": [
    "folium_map = folium.Map(\n",
    "    location = [46.2276, 2.2137], # Center of earth coordinates\n",
    "    zoom_start = 2.45,\n",
    "#     tiles = \"CartoDB dark_matter\"\n",
    ")\n",
    "\n",
    "for c in categories:\n",
    "    fg = MakeMap(\n",
    "        temp[temp[\"gender\"] == c], \n",
    "        folium.FeatureGroup(name = c)\n",
    "    )\n",
    "\n",
    "    folium_map.add_child(fg)"
   ]
  },
  {
   "cell_type": "code",
   "execution_count": null,
   "metadata": {},
   "outputs": [],
   "source": [
    "folium_map.add_child(folium.LayerControl())"
   ]
  },
  {
   "cell_type": "code",
   "execution_count": null,
   "metadata": {},
   "outputs": [],
   "source": [
    "content(\n",
    "    \"Evidently, a great deal of participants come from India and Europe. Smaller concentrations can be \" +\n",
    "    \"found in the US, Asian countries like China, and Africa. 'Woman' (orange) mostly come from India. \" + \n",
    "    \"This is evident even in the Kaggle Grand-Masters list (Go India!!). India is followed by the US and \" +\n",
    "    \"European countries. 'Prefer not to say' (blue) and 'Prefer to self describe' (red) follow the same \" +\n",
    "    \"pattern. 'Nonbinary' (green) appear to be scattered all around the globe. Let's study the trends by \" + \n",
    "    \"continent.\"\n",
    ")"
   ]
  },
  {
   "cell_type": "code",
   "execution_count": null,
   "metadata": {},
   "outputs": [],
   "source": [
    "link = \"https://raw.githubusercontent.com/dbouquin/IS_608/master/NanosatDB_munging/Countries-Continents.csv\"\n",
    "continents = pd.read_csv(link)\n",
    "\n",
    "continents = continents.rename(columns = {\n",
    "    \"Continent\": \"continent\",\n",
    "    \"Country\": \"country\"\n",
    "})\n",
    "\n",
    "continents[\"country\"] = continents[\"country\"].replace({\n",
    "    \"Iran\": \"Iran, Islamic Republic of\",\n",
    "    \"Russian Federation\": \"Russia\",\n",
    "    \"Korea, South\": \"South Korea\",\n",
    "    \"Vietnam\": \"Viet Nam\"\n",
    "})\n",
    "\n",
    "temp = pd.merge(df, continents, how = \"left\")\n",
    "\n",
    "temp[\"gender\"] = pd.Categorical(temp[\"gender\"])\n",
    "\n",
    "temp.loc[temp[\"country\"] == \"United States\", \"continent\"] = \"North America\"\n",
    "temp.loc[temp[\"country\"] == \"Taiwan\", \"continent\"] = \"Asia\"\n",
    "\n",
    "temp = temp.drop(columns = [\"country\"])\n",
    "\n",
    "temp = temp.groupby(\n",
    "    [\"continent\", \"gender\"]\n",
    ").agg(\n",
    "    count = pd.NamedAgg(\"gender\", \"count\")\n",
    ").reset_index()  \n",
    "\n",
    "temp[\"normal_gender_count\"] = temp.groupby([\"gender\"])[\"count\"].transform(lambda x: x/x.sum() * 100)"
   ]
  },
  {
   "cell_type": "code",
   "execution_count": null,
   "metadata": {},
   "outputs": [],
   "source": [
    "sns.catplot(\n",
    "    x = \"continent\", \n",
    "    y = \"count\", \n",
    "    hue = \"gender\", \n",
    "    data = temp, \n",
    "    palette = colors1,\n",
    "    s = 10,\n",
    "    jitter = True\n",
    ")\n",
    "plt.xlabel(\"Continent\")\n",
    "plt.ylabel(\"Number of Kagglers\")\n",
    "plt.xticks(rotation = 45)\n",
    "plt.title(\"Gender distribution over continents\")\n",
    "plt.show()"
   ]
  },
  {
   "cell_type": "code",
   "execution_count": null,
   "metadata": {},
   "outputs": [],
   "source": [
    "content(\n",
    "    \"There are too few people to look at so normalizing the data by gender appears to be a good idea.\"\n",
    ")"
   ]
  },
  {
   "cell_type": "code",
   "execution_count": null,
   "metadata": {},
   "outputs": [],
   "source": [
    "sns.catplot(\n",
    "    x = \"continent\", \n",
    "    y = \"normal_gender_count\", \n",
    "    hue = \"gender\", \n",
    "    data = temp, \n",
    "    palette = colors1,\n",
    "    s = 10,\n",
    "    jitter = True\n",
    ")\n",
    "plt.xlabel(\"Continent\")\n",
    "plt.ylabel(\"Number of Kagglers (Normalized)\")\n",
    "plt.xticks(rotation = 45)\n",
    "plt.title(\"Normalized gender distribution over continents\")\n",
    "plt.show()"
   ]
  },
  {
   "cell_type": "code",
   "execution_count": null,
   "metadata": {},
   "outputs": [],
   "source": [
    "content(\n",
    "    \"By normalizing, we reduce the effect of unequally surveyed gender groups. What do we observe? \" + \n",
    "    \"In Africa, Oceania and South America, the normalized number of participants is nearly the same. \" + \n",
    "    \"This means that gender does not affect participation much. In Asia, participation from 'Nonbinary' \" + \n",
    "    \"category is relatively smaller. In North America, participation from 'Nonbinary' category is \" + \n",
    "    \"relatively higher. In Europe, participation from 'Prefer to self describe' category is relatively \" +\n",
    "    \"higher.\"\n",
    ")"
   ]
  },
  {
   "cell_type": "markdown",
   "metadata": {},
   "source": [
    "# What is your age (# years)?"
   ]
  },
  {
   "cell_type": "code",
   "execution_count": null,
   "metadata": {},
   "outputs": [],
   "source": [
    "content(\n",
    "    \"How does age affect the participation of people belonging to different gender categories? Let's find out.\"\n",
    ")"
   ]
  },
  {
   "cell_type": "code",
   "execution_count": null,
   "metadata": {},
   "outputs": [],
   "source": [
    "temp = data.loc[1:, [\"Q1\", \"Q2\"]]\n",
    "\n",
    "temp = temp.rename(columns = {\n",
    "    \"Q1\": \"age\",\n",
    "    \"Q2\": \"gender\"\n",
    "})\n",
    "\n",
    "df = temp.pivot_table(\n",
    "    index = \"age\", \n",
    "    columns = \"gender\", \n",
    "    aggfunc = {\n",
    "        \"gender\": \"count\"\n",
    "    },\n",
    "    fill_value = 0\n",
    ")\n",
    "\n",
    "df.columns = df.columns.droplevel(0)\n",
    "df.columns.name = \"Gender\"\n",
    "\n",
    "df[\"Others\"] = df[categories[2]] + df[categories[3]] + df[categories[4]]\n",
    "\n",
    "df.drop(columns = categories[2:]).plot(\n",
    "    kind = 'bar', \n",
    "    stacked = True, \n",
    "    color = colors2\n",
    ")\n",
    "plt.xlabel(\"Age Group\")\n",
    "plt.ylabel(\"Number of Kagglers\")\n",
    "plt.title(\"Gender distribution over age group\")"
   ]
  },
  {
   "cell_type": "code",
   "execution_count": null,
   "metadata": {},
   "outputs": [],
   "source": [
    "content(\n",
    "    \"This histogram makes it clear that we are looking at an extremely small group of people. \" +\n",
    "    \"It encourages us to normalize the effect of  unequally surveyed gender groups.\"\n",
    ")"
   ]
  },
  {
   "cell_type": "code",
   "execution_count": null,
   "metadata": {},
   "outputs": [],
   "source": [
    "df = temp.groupby([\"gender\", \"age\"]).agg(\n",
    "    count = pd.NamedAgg(\"age\", \"count\")\n",
    ").reset_index()\n",
    "\n",
    "df[\"normal_gender_count\"] = df.groupby([\"gender\"])[\"count\"].transform(\n",
    "    lambda x: x/x.sum() * 10000\n",
    ")\n",
    "\n",
    "df[\"gender\"] = pd.Categorical(\n",
    "    df[\"gender\"],\n",
    "    categories = categories,\n",
    "    ordered = True\n",
    ")\n",
    "df = df.sort_values([\"gender\", \"age\"], ignore_index = True)\n",
    "\n",
    "fg = sns.FacetGrid(\n",
    "    data = df, \n",
    "    hue = 'gender',\n",
    "    hue_order = categories,\n",
    "    palette = \"Set2\", \n",
    "    height = 5, \n",
    "    aspect = 2\n",
    ")\n",
    "fg.map(plt.scatter, \"age\", \"gender\", \"normal_gender_count\")\n",
    "plt.margins(0.1)\n",
    "plt.xlabel(\"Age Group\")\n",
    "plt.ylabel(\"Gender\")\n",
    "plt.title(\"Normalized gender distribution over age group\")\n",
    "plt.show()"
   ]
  },
  {
   "cell_type": "code",
   "execution_count": null,
   "metadata": {},
   "outputs": [],
   "source": [
    "content(\n",
    "    \"Clearly, the patterns of all 5 gender categories are quite similar. This is evedent by the sizes \" +\n",
    "    \"of the circles. They appear to be the same size almost irrespective of gender group. There are minor \" +\n",
    "    \"deviations from that pattern. For example, we don't have much data for 'Nonbinary' group after age 50 \" +\n",
    "    \"while the proportion of 'Man' appears to be slightly larger by the end.\"\n",
    ")"
   ]
  },
  {
   "cell_type": "markdown",
   "metadata": {},
   "source": [
    "# What is the highest level of formal education that you have attained or plan to attain within the next 2 years?"
   ]
  },
  {
   "cell_type": "code",
   "execution_count": null,
   "metadata": {},
   "outputs": [],
   "source": [
    "content(\n",
    "    \"Education level tells us a lot of things. Less educated people often have less access to resources \" + \n",
    "    \"and hence it is possible that we see lesser participation from them. Education affects a lot of other \" +\n",
    "    \"factors as well. So let's find out the education levels of different gender groups.\" \n",
    ")"
   ]
  },
  {
   "cell_type": "code",
   "execution_count": null,
   "metadata": {},
   "outputs": [],
   "source": [
    "df = data.loc[1:, [\"Q2\", \"Q4\"]]\n",
    "\n",
    "df = df.rename(columns = {\n",
    "    \"Q2\": \"gender\",\n",
    "    \"Q4\": \"education\"\n",
    "})\n",
    "\n",
    "df[\"education\"] = df[\"education\"].replace({\n",
    "    \"Some college/university study without earning a bachelor’s degree\": \"College\",\n",
    "    \"No formal education past high school\": \"High School\"\n",
    "})\n",
    "\n",
    "df[\"gender\"] = pd.Categorical(df[\"gender\"])\n",
    "\n",
    "order = [\n",
    "    'High School',\n",
    "    'College',\n",
    "    'Bachelor’s degree',\n",
    "    'Master’s degree',\n",
    "    'Doctoral degree',\n",
    "    'Professional degree',\n",
    "    'I prefer not to answer'\n",
    "]\n",
    "\n",
    "df[\"education\"] = pd.Categorical(\n",
    "    df[\"education\"],\n",
    "    categories = order,\n",
    "    ordered = True\n",
    ")\n",
    "\n",
    "df = df.groupby([\"gender\", \"education\"]).agg(\n",
    "    count = pd.NamedAgg(\"gender\", \"count\")\n",
    ").reset_index()  "
   ]
  },
  {
   "cell_type": "code",
   "execution_count": null,
   "metadata": {},
   "outputs": [],
   "source": [
    "def GetRedBar(df, categories, col_name, xlabel):\n",
    "    df[\"gender\"] = pd.Categorical(\n",
    "        df[\"gender\"],\n",
    "        categories = categories,\n",
    "        ordered = True\n",
    "    )\n",
    "\n",
    "    plt.subplots(figsize = (25, 5))\n",
    "    for i, cat in enumerate(categories):\n",
    "        plt.subplot(1, 5, i+1)\n",
    "    \n",
    "        temp = df[df[\"gender\"] == cat]\n",
    "        values = temp[\"count\"].values\n",
    "\n",
    "        sns.barplot(\n",
    "            x = col_name, \n",
    "            y = \"count\", \n",
    "            data = temp,\n",
    "            palette =  ['grey' if (v < max(values)) else 'red' for v in values],\n",
    "        )\n",
    "    \n",
    "        plt.xlabel(xlabel)\n",
    "        plt.ylabel(\"Number of Kagglers\")\n",
    "        plt.xticks(rotation = 90)\n",
    "        plt.title(cat)\n",
    "    \n",
    "    plt.tight_layout()"
   ]
  },
  {
   "cell_type": "code",
   "execution_count": null,
   "metadata": {},
   "outputs": [],
   "source": [
    "GetRedBar(df, categories, \"education\", \"Education Level\")"
   ]
  },
  {
   "cell_type": "code",
   "execution_count": null,
   "metadata": {},
   "outputs": [],
   "source": [
    "content(\n",
    "    \"In any gender category, the majority hold a masters degree. The bachelors degree \" + \n",
    "    \"appears to be the second highest followed by doctoral degree. So irrespective of gender, the \"  +\n",
    "    \"participants appear to be well educated.\"\n",
    ")"
   ]
  },
  {
   "cell_type": "markdown",
   "metadata": {},
   "source": [
    "# Select the title most similar to your current role (or most recent title if retired):"
   ]
  },
  {
   "cell_type": "code",
   "execution_count": null,
   "metadata": {},
   "outputs": [],
   "source": [
    "content(\n",
    "    \"Let's learn about the gender distribution for each role/title.\"\n",
    ")"
   ]
  },
  {
   "cell_type": "code",
   "execution_count": null,
   "metadata": {},
   "outputs": [],
   "source": [
    "df = data.loc[1:, [\"Q2\", \"Q5\"]].dropna().reset_index(drop = True)\n",
    "\n",
    "df = df.rename(columns = {\n",
    "    \"Q2\": \"gender\",\n",
    "    \"Q5\": \"role\"\n",
    "})\n",
    "\n",
    "df[\"gender\"] = pd.Categorical(df[\"gender\"])\n",
    "df[\"role\"] = pd.Categorical(df[\"role\"])\n",
    "\n",
    "df = df.groupby([\"gender\", \"role\"]).agg(\n",
    "    count = pd.NamedAgg(\"role\", \"count\")\n",
    ").reset_index()"
   ]
  },
  {
   "cell_type": "code",
   "execution_count": null,
   "metadata": {},
   "outputs": [],
   "source": [
    "# sns.catplot(\n",
    "#     x = \"role\", \n",
    "#     y = \"count\", \n",
    "#     hue = \"gender\", \n",
    "#     data = df, \n",
    "#     palette = colors1,\n",
    "#     s = 10,\n",
    "#     jitter = True\n",
    "# )\n",
    "# plt.xlabel(\"Role\")\n",
    "# plt.ylabel(\"Number of Kagglers\")\n",
    "# plt.xticks(rotation = 90)\n",
    "# plt.title(\"Gender distribution over roles\")\n",
    "# plt.show()"
   ]
  },
  {
   "cell_type": "code",
   "execution_count": null,
   "metadata": {},
   "outputs": [],
   "source": [
    "temp = df.pivot_table(\n",
    "    index = \"role\", \n",
    "    columns = \"gender\", \n",
    "    values = \"count\",\n",
    "    fill_value = 0\n",
    ")\n",
    "\n",
    "# sns.heatmap(\n",
    "#     temp,\n",
    "#     annot = True,\n",
    "#     cmap = \"YlGnBu\",\n",
    "#     fmt = \"g\",\n",
    "# )\n",
    "# plt.xticks(rotation = 70)\n",
    "# plt.title(\"Gender distribution over roles\")\n",
    "# plt.show()"
   ]
  },
  {
   "cell_type": "code",
   "execution_count": null,
   "metadata": {},
   "outputs": [],
   "source": [
    "df[\"normal_gender_count\"] = df.groupby([\"gender\"])[\"count\"].transform(lambda x: x/x.sum() * 100)"
   ]
  },
  {
   "cell_type": "code",
   "execution_count": null,
   "metadata": {},
   "outputs": [],
   "source": [
    "sns.catplot(\n",
    "    x = \"role\", \n",
    "    y = \"normal_gender_count\", \n",
    "    hue = \"gender\", \n",
    "    data = df, \n",
    "    palette = colors1,\n",
    "    s = 10,\n",
    "    jitter = True\n",
    ")\n",
    "plt.xlabel(\"Role\")\n",
    "plt.ylabel(\"Number of Kagglers (Normalized)\")\n",
    "plt.xticks(rotation = 90)\n",
    "plt.title(\"Normalized gender distribution over roles\")\n",
    "plt.show()"
   ]
  },
  {
   "cell_type": "code",
   "execution_count": null,
   "metadata": {},
   "outputs": [],
   "source": [
    "content(\n",
    "    \"This gender normalized plot tells an interesting story. The gender distribution almost always clusters \" +\n",
    "    \"together, with the exception of the 'Student' category where there is a considerable amount of \" +\n",
    "    \"variation. Clustering together shows that participation is near identical in each role, irrespective \" +\n",
    "    \"of gender.\"\n",
    "    \n",
    ")"
   ]
  },
  {
   "cell_type": "code",
   "execution_count": null,
   "metadata": {},
   "outputs": [],
   "source": [
    "temp = temp.apply(lambda x: x/x.sum() * 100)"
   ]
  },
  {
   "cell_type": "code",
   "execution_count": null,
   "metadata": {},
   "outputs": [],
   "source": [
    "# sns.heatmap(\n",
    "#     temp,\n",
    "#     annot = True,\n",
    "#     cmap = \"YlGnBu\",\n",
    "#     fmt = \".2f\"\n",
    "# )\n",
    "# plt.xticks(rotation = 70)\n",
    "# plt.title(\"Normalized gender distribution over roles\")\n",
    "# plt.show()"
   ]
  },
  {
   "cell_type": "code",
   "execution_count": null,
   "metadata": {},
   "outputs": [],
   "source": [
    "sns.clustermap(\n",
    "    temp,\n",
    "    annot = True,\n",
    "    cmap = \"YlGnBu\",\n",
    "    fmt = \".2f\",\n",
    "    figsize = (7, 7)\n",
    ")\n",
    "plt.title(\"Normalized gender distribution over roles\")\n",
    "plt.show()"
   ]
  },
  {
   "cell_type": "code",
   "execution_count": null,
   "metadata": {},
   "outputs": [],
   "source": [
    "content(\n",
    "    \"Look at the columns of this cluter map. They represent the gender groups. The color pattern of all \" +\n",
    "    \"columns appears to be quite similar right? That shows how gender did not affect the roles much. \" +\n",
    "    \"We must remember that these are normalized distributions. Drawing inferences from the absolute \" +\n",
    "    \"distributions can be hard due to unequally surveyed gender groups. If we look at the cluster map more\" +\n",
    "    \"closely, it tells us how similar the gender groups are to each other as well as the similarity \" +\n",
    "    \"between various roles.\"\n",
    ")"
   ]
  },
  {
   "cell_type": "markdown",
   "metadata": {},
   "source": [
    "# For how many years have you been writing code and/or programming?"
   ]
  },
  {
   "cell_type": "code",
   "execution_count": null,
   "metadata": {},
   "outputs": [],
   "source": [
    "content(\n",
    "    \"Experience at coding tells us a lot of things. For example, it gives us insights into which groups \" +\n",
    "    \"are presumably new to Data Science and Machine Learning or even Kaggle.\"\n",
    ")"
   ]
  },
  {
   "cell_type": "code",
   "execution_count": null,
   "metadata": {},
   "outputs": [],
   "source": [
    "df = data.loc[1:, [\"Q2\", \"Q6\"]].dropna().reset_index(drop = True)\n",
    "\n",
    "df = df.rename(columns = {\n",
    "    \"Q2\": \"gender\",\n",
    "    \"Q6\": \"experience\"\n",
    "})\n",
    "\n",
    "df[\"experience\"] = df[\"experience\"].replace({\n",
    "    'I have never written code': \"Never\"\n",
    "})\n",
    "\n",
    "df[\"gender\"] = pd.Categorical(df[\"gender\"])\n",
    "df[\"experience\"] = pd.Categorical(\n",
    "    df[\"experience\"],\n",
    "    categories = [\n",
    "        'Never',\n",
    "        '< 1 years',\n",
    "        '1-2 years',\n",
    "        '3-5 years',\n",
    "        '5-10 years',\n",
    "        '10-20 years',\n",
    "        '20+ years'\n",
    "    ],\n",
    "    ordered = True\n",
    ")\n",
    "\n",
    "df = df.groupby([\"gender\", \"experience\"]).agg(\n",
    "    count = pd.NamedAgg(\"experience\", \"count\")\n",
    ").reset_index()\n",
    "\n",
    "df = df.pivot_table(\n",
    "    index = \"experience\", \n",
    "    columns = \"gender\", \n",
    "    values = \"count\",\n",
    "    fill_value = 0\n",
    ")\n",
    "\n",
    "df = df.apply(lambda x: x/x.sum() * 100)"
   ]
  },
  {
   "cell_type": "code",
   "execution_count": null,
   "metadata": {},
   "outputs": [],
   "source": [
    "df.T.plot(\n",
    "    kind = \"bar\",\n",
    "    stacked = True,\n",
    "    figsize = (10, 5),\n",
    "    colormap = \"plasma_r\",\n",
    "    width = 1,\n",
    "    alpha = 0.7\n",
    ")\n",
    "plt.ylim(0, 135)\n",
    "plt.xticks(rotation = 45)\n",
    "plt.yticks([])\n",
    "plt.xlabel(\"Gender\")\n",
    "plt.ylabel(\"Number of Kagglers (Normalized)\")\n",
    "plt.title(\"Normalized gender distribution over programming experience\")\n",
    "plt.legend(ncol = 4, loc = \"upper center\", title = \"Programming Experience\")\n",
    "\n",
    "ax = plt.gca()\n",
    "ax.grid(False)"
   ]
  },
  {
   "cell_type": "code",
   "execution_count": null,
   "metadata": {},
   "outputs": [],
   "source": [
    "content(\n",
    "    \"The near identical widths of any category (of programming experience) in all gender groups tells us how\" +\n",
    "    \"similar the gender groups are. Although there is a minor devation in the case of 'Nonbinary' people \" +\n",
    "    \"(whose 5-10 years category is much larger than other gender groups), the patterns are otherwise similar\"\n",
    ")"
   ]
  },
  {
   "cell_type": "markdown",
   "metadata": {},
   "source": [
    "# What programming languages do you use on a regular basis? (Select all that apply)"
   ]
  },
  {
   "cell_type": "code",
   "execution_count": null,
   "metadata": {},
   "outputs": [],
   "source": [
    "content(\n",
    "    \"Let's see the programming language preferences amongst the different gender groups.\"\n",
    ")"
   ]
  },
  {
   "cell_type": "code",
   "execution_count": null,
   "metadata": {},
   "outputs": [],
   "source": [
    "def GenderPiePlot(df, categories, cols):\n",
    "    df[df[cols].notnull()] = 1\n",
    "    df = df.fillna(0)\n",
    "    \n",
    "    df = df.groupby([\"gender\"]).sum()\n",
    "    \n",
    "    temp = df.apply(lambda x: x/x.sum(), axis = 1)\n",
    "    \n",
    "    for i, cat in enumerate(categories):\n",
    "        plt.subplot(2, 3, i+1)\n",
    "        temp.loc[cat, :].plot(\n",
    "            kind = \"pie\",\n",
    "            explode = [0.1]*len(cols),   \n",
    "            autopct = \"%1.2f%%\", \n",
    "            pctdistance = 0.6,\n",
    "            wedgeprops = dict(width = 0.5),\n",
    "            colormap = \"plasma_r\",\n",
    "            figsize = (20, 10),\n",
    "        )\n",
    "        plt.ylabel(\"\")\n",
    "        plt.xlabel(cat)\n",
    "    \n",
    "    plt.tight_layout()\n",
    "    \n",
    "    return temp, df"
   ]
  },
  {
   "cell_type": "code",
   "execution_count": null,
   "metadata": {},
   "outputs": [],
   "source": [
    "def GenderScatterPlot(temp, categories):\n",
    "    pca = PCA(n_components = 2)\n",
    "    embeddings = pca.fit_transform(temp.values)\n",
    "    variances = pca.explained_variance_ratio_\n",
    "    print(variances.cumsum())\n",
    "    \n",
    "    embeddings = pd.DataFrame(embeddings, index = categories, columns = [\"PC1\", \"PC2\"])\n",
    "    embeddings.index.name = \"gender\"\n",
    "    embeddings = embeddings.apply(lambda x: x/np.sqrt(np.sum(x**2)), axis = 1)\n",
    "    embeddings = embeddings.reset_index()\n",
    "    \n",
    "    plt.figure(figsize = (5, 5))\n",
    "    sns.scatterplot(\n",
    "        x = \"PC1\", \n",
    "        y = \"PC2\",\n",
    "        hue = \"gender\",\n",
    "        data = embeddings,\n",
    "        hue_order = categories,\n",
    "        palette = \"Set2\", \n",
    "        s = 100,\n",
    "        legend = False,\n",
    "        x_jitter = True,\n",
    "        y_jitter = True,\n",
    "    )\n",
    "    \n",
    "    for i, txt in enumerate(categories):\n",
    "        plt.annotate(txt, (embeddings.loc[i, \"PC1\"], embeddings.loc[i, \"PC2\"]))\n",
    "        \n",
    "    plt.title(\"Clustering gender\")\n",
    "    plt.xlim(-1.2, 1.6)\n",
    "    plt.show()"
   ]
  },
  {
   "cell_type": "code",
   "execution_count": null,
   "metadata": {},
   "outputs": [],
   "source": [
    "def CategoryPiePlot(df, categories, cols, nrow, ncol):\n",
    "    dummy = df.drop(categories[2:])\n",
    "    dummy.loc[\"Other\", :] = df.loc[categories[2:], :].sum()\n",
    "    dummy = dummy.apply(lambda x: x/x.sum())\n",
    "\n",
    "    for i, c in enumerate(cols):\n",
    "        plt.subplot(nrow, ncol, i+1)\n",
    "    \n",
    "        dummy.loc[:, c].plot(\n",
    "            kind = \"pie\",\n",
    "            explode = [0.1]*3,   \n",
    "            autopct = \"%1.2f%%\", \n",
    "            pctdistance = 0.7,\n",
    "            wedgeprops = dict(width = 0.5),\n",
    "            colormap = \"plasma\",\n",
    "            figsize = (20, 10)\n",
    "        )\n",
    "        plt.ylabel(\"\")\n",
    "        plt.xlabel(c)\n",
    "    \n",
    "    plt.tight_layout()"
   ]
  },
  {
   "cell_type": "code",
   "execution_count": null,
   "metadata": {},
   "outputs": [],
   "source": [
    "def CategoryScatterPlot(df, cols, typ):\n",
    "    temp = df.apply(lambda x: x/x.sum(), axis = 0)\n",
    "    \n",
    "    pca = PCA(n_components = 2)\n",
    "    embeddings = pca.fit_transform(temp.T.values)\n",
    "    variances = pca.explained_variance_ratio_\n",
    "    print(variances.cumsum())\n",
    "    \n",
    "    embeddings = pd.DataFrame(embeddings, index = cols, columns = [\"PC1\", \"PC2\"])\n",
    "    embeddings.index.name = typ\n",
    "    embeddings = embeddings.apply(lambda x: x/np.sqrt(np.sum(x**2)), axis = 1)\n",
    "    embeddings = embeddings.reset_index()\n",
    "    \n",
    "    plt.figure(figsize = (5, 5))\n",
    "    sns.scatterplot(\n",
    "        x = \"PC1\", \n",
    "        y = \"PC2\",\n",
    "        hue = typ,\n",
    "        data = embeddings,\n",
    "        s = 100,\n",
    "        legend = False,\n",
    "        x_jitter = True,\n",
    "        y_jitter = True,\n",
    "    )\n",
    "    for i, txt in enumerate(cols):\n",
    "        plt.annotate(txt, (embeddings.loc[i, \"PC1\"], embeddings.loc[i, \"PC2\"]))\n",
    "        \n",
    "    plt.title(\"Clustering \" + typ)\n",
    "    plt.xlim(-1.2, 2)\n",
    "    plt.show()"
   ]
  },
  {
   "cell_type": "code",
   "execution_count": null,
   "metadata": {},
   "outputs": [],
   "source": [
    "q_cols = [\n",
    "    'Q7_Part_1', 'Q7_Part_2', 'Q7_Part_3', 'Q7_Part_4', 'Q7_Part_5', 'Q7_Part_6', 'Q7_Part_7', 'Q7_Part_8',\n",
    "    'Q7_Part_9', 'Q7_Part_10', 'Q7_Part_11', 'Q7_Part_12', 'Q7_OTHER'\n",
    "]\n",
    "df = data.loc[1:, [\"Q2\"] + q_cols]\n",
    "\n",
    "prog_lang = [\n",
    "    \"Python\", \"R\", \"SQL\", \"C\", \"C++\", \"Java\", \"Javascript\", \"Julia\", \"Swift\", \"Bash\", \"MATLAB\", \"None\", \n",
    "    \"Other\"\n",
    "]\n",
    "df.columns = [\"gender\"] + prog_lang"
   ]
  },
  {
   "cell_type": "code",
   "execution_count": null,
   "metadata": {},
   "outputs": [],
   "source": [
    "temp, df = GenderPiePlot(df, categories, prog_lang)"
   ]
  },
  {
   "cell_type": "code",
   "execution_count": null,
   "metadata": {},
   "outputs": [],
   "source": [
    "content(\n",
    "    \"The pie charts appear to be similar in any age category. Python is the favourite language of all, \" +\n",
    "    \"irrespective of gender. SQL and R programming languages follow.\"\n",
    ")"
   ]
  },
  {
   "cell_type": "code",
   "execution_count": null,
   "metadata": {},
   "outputs": [],
   "source": [
    "GenderScatterPlot(temp, categories)"
   ]
  },
  {
   "cell_type": "code",
   "execution_count": null,
   "metadata": {},
   "outputs": [],
   "source": [
    "content(\n",
    "    \"In terms of programming language preferences, 'Man' and 'Nonbinary' appear to be most similar.\"\n",
    ")"
   ]
  },
  {
   "cell_type": "code",
   "execution_count": null,
   "metadata": {},
   "outputs": [],
   "source": [
    "CategoryPiePlot(df, categories, prog_lang, 3, 5)"
   ]
  },
  {
   "cell_type": "code",
   "execution_count": null,
   "metadata": {},
   "outputs": [],
   "source": [
    "content(\n",
    "    \"Amongst all people who like Python, most are 'Man' followed by 'Woman'. This is unsurprising as we \" +\n",
    "    \"are interested in a small group of people here.\"\n",
    ")"
   ]
  },
  {
   "cell_type": "code",
   "execution_count": null,
   "metadata": {},
   "outputs": [],
   "source": [
    "CategoryScatterPlot(df, prog_lang, \"programming language\")"
   ]
  },
  {
   "cell_type": "code",
   "execution_count": null,
   "metadata": {},
   "outputs": [],
   "source": [
    "content(\n",
    "    \"In terms of gender, Python is unlike any other language. I'm a Python fan btw. :D\"\n",
    ")"
   ]
  },
  {
   "cell_type": "markdown",
   "metadata": {},
   "source": [
    "# What programming language would you recommend an aspiring data scientist to learn first?"
   ]
  },
  {
   "cell_type": "code",
   "execution_count": null,
   "metadata": {},
   "outputs": [],
   "source": [
    "content(\n",
    "    \"We know the programming preferences of each gender group. Now let's see what people would recommend \" +\n",
    "    \"other people.\"\n",
    ")"
   ]
  },
  {
   "cell_type": "code",
   "execution_count": null,
   "metadata": {},
   "outputs": [],
   "source": [
    "df = data.loc[1:, [\"Q2\", \"Q8\"]].dropna().reset_index(drop = True)\n",
    "\n",
    "df = df.rename(columns = {\n",
    "    \"Q2\": \"gender\",\n",
    "    \"Q8\": \"programming language\"\n",
    "})\n",
    "\n",
    "df[\"gender\"] = pd.Categorical(df[\"gender\"])\n",
    "df[\"programming language\"] = pd.Categorical(df[\"programming language\"])\n",
    "\n",
    "df = df.groupby([\"gender\", \"programming language\"]).agg(\n",
    "    count = pd.NamedAgg(\"programming language\", \"count\")\n",
    ").reset_index()"
   ]
  },
  {
   "cell_type": "code",
   "execution_count": null,
   "metadata": {},
   "outputs": [],
   "source": [
    "GetRedBar(df, categories, \"programming language\", \"Recommended programming language\")"
   ]
  },
  {
   "cell_type": "code",
   "execution_count": null,
   "metadata": {},
   "outputs": [],
   "source": [
    "content(\n",
    "    \"Python appears to be the winner in any case. Leading by a LOT.\"\n",
    ")"
   ]
  },
  {
   "cell_type": "markdown",
   "metadata": {},
   "source": [
    "# Which of the following integrated development environments (IDE's) do you use on a regular basis? (Select all that apply)"
   ]
  },
  {
   "cell_type": "code",
   "execution_count": null,
   "metadata": {},
   "outputs": [],
   "source": [
    "content(\n",
    "    \"Let's now look at the IDEs used regularly by different gender groups.\"\n",
    ")"
   ]
  },
  {
   "cell_type": "code",
   "execution_count": null,
   "metadata": {},
   "outputs": [],
   "source": [
    "ide_cols = [\n",
    "    'Q9_Part_1', 'Q9_Part_2', 'Q9_Part_3', 'Q9_Part_4', 'Q9_Part_5', 'Q9_Part_6', 'Q9_Part_7', 'Q9_Part_8', \n",
    "    'Q9_Part_9', 'Q9_Part_10', 'Q9_Part_11', 'Q9_OTHER'\n",
    "]\n",
    "\n",
    "df = data.loc[1:, [\"Q2\"] + ide_cols]\n",
    "\n",
    "ide = [\n",
    "    \"Jupyter\", \"RStudio\", \"Visual Studio\", \"VSCode\", \"PyCharm\", \"Spyder\", \"Notepad++\", \n",
    "    \"Sublime Text\", \"Vim/Emacs\", \"Matlab\", \"None\", \"Other\"\n",
    "]\n",
    "df.columns = [\"gender\"] + ide\n",
    "\n",
    "temp, df = GenderPiePlot(df, categories, ide)"
   ]
  },
  {
   "cell_type": "code",
   "execution_count": null,
   "metadata": {},
   "outputs": [],
   "source": [
    "content(\n",
    "    \"The distributions appear to be identical irrespective of gender. Jupyter is the most popular choice \" +\n",
    "    \"in any gender group. Other Python based IDEs such as VSCode and PyCharm follow.\"\n",
    ")"
   ]
  },
  {
   "cell_type": "code",
   "execution_count": null,
   "metadata": {},
   "outputs": [],
   "source": [
    "GenderScatterPlot(temp, categories)"
   ]
  },
  {
   "cell_type": "code",
   "execution_count": null,
   "metadata": {},
   "outputs": [],
   "source": [
    "content(\n",
    "    \"Considering IDE preferences, 'Woman' and 'Prefer not to say' appear to be most similar.\"\n",
    ")"
   ]
  },
  {
   "cell_type": "code",
   "execution_count": null,
   "metadata": {},
   "outputs": [],
   "source": [
    "CategoryPiePlot(df, categories, ide, 3, 5)"
   ]
  },
  {
   "cell_type": "code",
   "execution_count": null,
   "metadata": {},
   "outputs": [],
   "source": [
    "content(\n",
    "    \"Again, these pie chart make it clear that we are interested in only about 2-3% of the total population.\"\n",
    ")"
   ]
  },
  {
   "cell_type": "code",
   "execution_count": null,
   "metadata": {},
   "outputs": [],
   "source": [
    "CategoryScatterPlot(df, ide, \"IDE\")"
   ]
  },
  {
   "cell_type": "code",
   "execution_count": null,
   "metadata": {},
   "outputs": [],
   "source": [
    "content(\n",
    "    \"Notice something interesting? In terms of gender, Python based IDE cluster together.\"\n",
    ")"
   ]
  },
  {
   "cell_type": "markdown",
   "metadata": {},
   "source": [
    "# Which of the following hosted notebook products do you use on a regular basis? (Select all that apply)"
   ]
  },
  {
   "cell_type": "code",
   "execution_count": null,
   "metadata": {},
   "outputs": [],
   "source": [
    "content(\n",
    "    \"We know that most people regularly use Jupyter, which offers notebooks. Let's explore the gender \" +\n",
    "    \"distribution for each hosted notebook product\"\n",
    ")"
   ]
  },
  {
   "cell_type": "code",
   "execution_count": null,
   "metadata": {},
   "outputs": [],
   "source": [
    "not_cols = [\n",
    "    'Q10_Part_1', 'Q10_Part_2', 'Q10_Part_3', 'Q10_Part_4', 'Q10_Part_5', 'Q10_Part_6', 'Q10_Part_7', \n",
    "    'Q10_Part_8', 'Q10_Part_9', 'Q10_Part_10', 'Q10_Part_11', 'Q10_Part_12', 'Q10_Part_13', 'Q10_OTHER'\n",
    "]\n",
    "\n",
    "df = data.loc[1:, [\"Q2\"] + not_cols]\n",
    "\n",
    "notebook = [\n",
    "    \"Kaggle\", \"Colab\", \"Azure\", \"Paperspace/Gradient\", \"Binder/JupyterHub\", \"Code Ocean\", \"Watson Studio\", \n",
    "    \"Sagemaker\", \"Amazon EMR\", \"Google AI Notebooks\", \"Datalab Notebooks\",  \"Databricks\", \"None\", \"Other\"\n",
    "]\n",
    "df.columns = [\"gender\"] + notebook\n",
    "\n",
    "df[df[notebook].notnull()] = 1\n",
    "df = df.fillna(0)\n",
    "    \n",
    "df = df.groupby([\"gender\"]).sum()\n",
    "    \n",
    "temp = df.apply(lambda x: x/x.sum(), axis = 1)"
   ]
  },
  {
   "cell_type": "code",
   "execution_count": null,
   "metadata": {},
   "outputs": [],
   "source": [
    "plt.figure(figsize = (10, 5))\n",
    "for i, c in enumerate(categories):\n",
    "    (markerline, stemlines, baseline) = plt.stem(\n",
    "        temp.columns,\n",
    "        temp.loc[c]\n",
    "    )\n",
    "    plt.setp(\n",
    "        markerline, \n",
    "        marker = 'o', \n",
    "        markersize = 15,\n",
    "        markeredgewidth = 2, \n",
    "        color = palette[i]\n",
    "    )\n",
    "    plt.setp(stemlines, color = \"gold\")\n",
    "    plt.setp(baseline, visible = False)\n",
    "    plt.tick_params(labelsize = 12)\n",
    "    plt.xticks(rotation = 45)\n",
    "    \n",
    "    plt.xlabel(\"Preferred Notebook\")\n",
    "    plt.ylabel(\"Number of Kagglers (Normalized)\")\n",
    "    plt.title(\"Gender distribution over notebook preference.\")\n",
    "    \n",
    "plt.tight_layout()"
   ]
  },
  {
   "cell_type": "code",
   "execution_count": null,
   "metadata": {},
   "outputs": [],
   "source": [
    "content(\n",
    "    \"Again, the gender groups cluster together in each category. It can be said that Kaggle and Colab are \" +\n",
    "    \"popular platforms. A lot of people (in any gender group) do not like any.\"\n",
    ")"
   ]
  },
  {
   "cell_type": "markdown",
   "metadata": {},
   "source": [
    "# What type of computing platform do you use most often for your data science projects?"
   ]
  },
  {
   "cell_type": "code",
   "execution_count": null,
   "metadata": {},
   "outputs": [],
   "source": [
    "content(\n",
    "    \"Computing platforms are important for data scientists and machine learning engineers. Let's explore \" +\n",
    "    \"people's preferences.\"\n",
    ")"
   ]
  },
  {
   "cell_type": "code",
   "execution_count": null,
   "metadata": {},
   "outputs": [],
   "source": [
    "df = data.loc[1:, [\"Q2\", \"Q11\"]]\n",
    "\n",
    "df = df.rename(columns = {\n",
    "    \"Q2\": \"gender\",\n",
    "    \"Q11\": \"compute platform\"\n",
    "})\n",
    "\n",
    "df[\"compute platform\"] = df[\"compute platform\"].replace({\n",
    "    \"A personal computer or laptop\": \"PC\",\n",
    "    \"A deep learning workstation (NVIDIA GTX, LambdaLabs, etc)\": \"DL Workstation\",\n",
    "    \"A cloud computing platform (AWS, Azure, GCP, hosted notebooks, etc)\": \"Cloud\"\n",
    "})\n",
    "\n",
    "df = df.groupby([\"gender\", \"compute platform\"]).agg(\n",
    "    count = pd.NamedAgg(\"gender\", \"count\")\n",
    ").reset_index()\n",
    "\n",
    "df[\"normal_gender_count\"] = df.groupby([\"gender\"])[\"count\"].transform(\n",
    "    lambda x: x/x.sum() * 5000\n",
    ")\n",
    "\n",
    "df[\"gender\"] = pd.Categorical(\n",
    "    df[\"gender\"],\n",
    "    categories = categories,\n",
    "    ordered = True\n",
    ")\n",
    "df = df.sort_values([\"gender\", \"compute platform\"], ignore_index = True)"
   ]
  },
  {
   "cell_type": "code",
   "execution_count": null,
   "metadata": {},
   "outputs": [],
   "source": [
    "fg = sns.FacetGrid(\n",
    "    data = df, \n",
    "    hue = 'gender',\n",
    "    hue_order = categories,\n",
    "    palette = \"Set2\", \n",
    "    height = 5, \n",
    "    aspect = 2\n",
    ")\n",
    "fg.map(plt.scatter, \"compute platform\", \"gender\", \"normal_gender_count\")\n",
    "plt.margins(0.1)\n",
    "plt.xlabel(\"Compute Platform\")\n",
    "plt.ylabel(\"Gender\")\n",
    "plt.title(\"Normalized gender distribution over compute platform\")\n",
    "plt.show()"
   ]
  },
  {
   "cell_type": "code",
   "execution_count": null,
   "metadata": {},
   "outputs": [],
   "source": [
    "content(\n",
    "    \"Irrespective of gender, the patterns appear to be quite similar. Most users prefer PC. This trend is \" +\n",
    "    \"followed by Cloud users. Users of other computing platforms show similar trends. The absence of data \" +\n",
    "    \"in the case of 'Nonbinary' and 'Prefer to self describe' categories is no reason to disconsider the \" +\n",
    "    \"fact that the patterns are otherwise similar.\"\n",
    ")"
   ]
  },
  {
   "cell_type": "markdown",
   "metadata": {},
   "source": [
    "# Which types of specialized hardware do you use on a regular basis? (Select all that apply)"
   ]
  },
  {
   "cell_type": "code",
   "execution_count": null,
   "metadata": {},
   "outputs": [],
   "source": [
    "content(\n",
    "    \"Let's explore which hardware people of different gender groups like to use on a regular basis.\"\n",
    ")"
   ]
  },
  {
   "cell_type": "code",
   "execution_count": null,
   "metadata": {},
   "outputs": [],
   "source": [
    "hard_cols = ['Q12_Part_1', 'Q12_Part_2', 'Q12_Part_3', 'Q12_OTHER']\n",
    "df = data.loc[1:, [\"Q2\"] + hard_cols]\n",
    "\n",
    "hardware = [\"GPU\", \"TPU\", \"None\", \"Other\"]\n",
    "df.columns = [\"gender\"] + hardware\n",
    "\n",
    "df[df[hardware].notnull()] = 1\n",
    "df = df.fillna(0)\n",
    "\n",
    "temp = df.groupby([\"gender\"]).sum()"
   ]
  },
  {
   "cell_type": "code",
   "execution_count": null,
   "metadata": {},
   "outputs": [],
   "source": [
    "fig = plt.figure(figsize = (25,5)) \n",
    "gs = fig.add_gridspec(1, len(categories))\n",
    "\n",
    "for i, cat in enumerate(categories):\n",
    "    ax = fig.add_subplot(gs[0, i])\n",
    "    \n",
    "    squarify.plot(\n",
    "        sizes = temp.loc[cat].values,  \n",
    "        label = temp.loc[cat].keys(), \n",
    "        color = sns.color_palette(\"magma_r\"),\n",
    "        alpha = 0.7,\n",
    "        text_kwargs = {\n",
    "            \"size\": 10\n",
    "        },\n",
    "        ax = ax\n",
    "    )\n",
    "    ax.axis(\"off\")\n",
    "    ax.set_title(cat)\n",
    "    \n",
    "plt.tight_layout()"
   ]
  },
  {
   "cell_type": "code",
   "execution_count": null,
   "metadata": {},
   "outputs": [],
   "source": [
    "content(\n",
    "    \"In any gender group, the specialized hardware used on a regular basis is GPU. A lot of people use \" + \n",
    "    \"none. The distribution is quite similar in all the gender groups.\" \n",
    ")"
   ]
  },
  {
   "cell_type": "markdown",
   "metadata": {},
   "source": [
    "# Approximately how many times have you used a TPU (tensor processing unit)?"
   ]
  },
  {
   "cell_type": "code",
   "execution_count": null,
   "metadata": {},
   "outputs": [],
   "source": [
    "content(\n",
    "    \"Although GPUs are the popular choice, we know how much better (mainly speed) TPUs can be. \" +\n",
    "    \"TPUs are the future and it's interesting to explore how often people \" +\n",
    "    \"use TPUs today, because the numbers are definitely going to shoot in the years to come.\"\n",
    ")"
   ]
  },
  {
   "cell_type": "code",
   "execution_count": null,
   "metadata": {},
   "outputs": [],
   "source": [
    "df = data.loc[1:, [\"Q2\", \"Q13\"]].dropna().reset_index(drop = True)\n",
    "\n",
    "df = df.rename(columns = {\n",
    "    \"Q2\": \"gender\",\n",
    "    \"Q13\": \"frequency\"\n",
    "})\n",
    "\n",
    "df[\"frequency\"] = df[\"frequency\"].replace({\n",
    "    \"More than 25 times\": \"> 25 times\"\n",
    "})\n",
    "\n",
    "df[\"gender\"] = pd.Categorical(df[\"gender\"])\n",
    "\n",
    "order = [\"Never\", \"Once\", \"2-5 times\", \"6-25 times\", \"> 25 times\"]\n",
    "df[\"frequency\"] = pd.Categorical(\n",
    "    df[\"frequency\"],\n",
    "    categories = order,\n",
    "    ordered = True\n",
    ")\n",
    "\n",
    "df = df.groupby([\"gender\", \"frequency\"]).agg(\n",
    "    count = pd.NamedAgg(\"gender\", \"count\")\n",
    ").reset_index()\n",
    "\n",
    "df[\"count\"] = df[\"count\"] + np.random.uniform(0, 1, df.shape[0])"
   ]
  },
  {
   "cell_type": "code",
   "execution_count": null,
   "metadata": {},
   "outputs": [],
   "source": [
    "plt.subplots(figsize = (25, 5))\n",
    "for i, c in enumerate(categories):\n",
    "    plt.subplot(1, 5, i+1)\n",
    "    (markerline, stemlines, baseline) = plt.stem(\n",
    "        df[df[\"gender\"] == c][\"frequency\"].values,\n",
    "        df[df[\"gender\"] == c][\"count\"].values, \n",
    "    )\n",
    "    plt.setp(\n",
    "        markerline, \n",
    "        marker = '*', \n",
    "        markersize = 15,\n",
    "        markeredgewidth = 2, \n",
    "        color = palette[i]\n",
    "    )\n",
    "    plt.setp(stemlines, color = palette[i])\n",
    "    plt.setp(baseline, visible = False)\n",
    "    plt.tick_params(labelsize = 12)\n",
    "    plt.xticks(rotation = 45)\n",
    "    \n",
    "    plt.xlabel(\"TPU usage frequency\")\n",
    "    plt.ylabel(\"Number of Kagglers\")\n",
    "    \n",
    "    plt.title(c)\n",
    "    \n",
    "plt.tight_layout()"
   ]
  },
  {
   "cell_type": "code",
   "execution_count": null,
   "metadata": {},
   "outputs": [],
   "source": [
    "content(\n",
    "    \"Woah, yet again, the trends appear to be similar irrespective of gender. Most people have never used \" +\n",
    "    \"a TPU. A small number of people have used it once and so on (fewer and fewer people). You may also \" +\n",
    "    \"observe deviations. For example, for 'Prefer to self describe' and 'Nonbinary' categories, the  \" +\n",
    "    \"trend is slightly off.\"\n",
    ")"
   ]
  },
  {
   "cell_type": "markdown",
   "metadata": {},
   "source": [
    "# What data visualization libraries or tools do you use on a regular basis? (Select all that apply)"
   ]
  },
  {
   "cell_type": "code",
   "execution_count": null,
   "metadata": {},
   "outputs": [],
   "source": [
    "content(\n",
    "    \"Let's explore the data visualization libraries or tools people prefer.\"\n",
    ")"
   ]
  },
  {
   "cell_type": "code",
   "execution_count": null,
   "metadata": {},
   "outputs": [],
   "source": [
    "vis_cols = [\n",
    "    'Q14_Part_1', 'Q14_Part_2', 'Q14_Part_3', 'Q14_Part_4', 'Q14_Part_5', 'Q14_Part_6', 'Q14_Part_7', \n",
    "    'Q14_Part_8', 'Q14_Part_9', 'Q14_Part_10', 'Q14_Part_11', 'Q14_OTHER'\n",
    "]\n",
    "\n",
    "df = data.loc[1:, [\"Q2\"] + vis_cols]\n",
    "\n",
    "vis = [\n",
    "    \"Matplotlib\", \"Seaborn\", \"Plotly\", \"Ggplot\", \"Shiny\", \"D3 js\", \"Altair\", \"Bokeh\", \"Geoplotlib\", \n",
    "    \"Leaflet/Folium\", \"None\", \"Other\"\n",
    "]\n",
    "df.columns = [\"gender\"] + vis\n",
    "\n",
    "df[df[vis].notnull()] = 1\n",
    "df = df.fillna(0)\n",
    "\n",
    "df = df.groupby(\"gender\").sum()\n",
    "\n",
    "df = df.apply(lambda x: x/x.sum() * 100, axis = 1)"
   ]
  },
  {
   "cell_type": "code",
   "execution_count": null,
   "metadata": {},
   "outputs": [],
   "source": [
    "df.plot(\n",
    "    kind = \"bar\",\n",
    "    stacked = True,\n",
    "    figsize = (10, 5),\n",
    "    colormap = \"plasma_r\",\n",
    "    width = 1,\n",
    "    alpha = 0.6\n",
    ")\n",
    "plt.ylim(0, 150)\n",
    "plt.xticks(rotation = 45)\n",
    "plt.yticks([])\n",
    "plt.xlabel(\"Gender\")\n",
    "plt.ylabel(\"Number of Kagglers (Normalized)\")\n",
    "plt.title(\"Normalized gender distribution over visualization tools\")\n",
    "plt.legend(ncol = 4, loc = \"upper center\", title = \"Visualization Tools\")\n",
    "\n",
    "ax = plt.gca()\n",
    "ax.grid(False)"
   ]
  },
  {
   "cell_type": "code",
   "execution_count": null,
   "metadata": {},
   "outputs": [],
   "source": [
    "content(\n",
    "    \"The trend is similar for all gender categories. We previously saw how much people love Python. Their \" +\n",
    "    \"love for python based visualization libraries such as Matplotlib, Seaborn and Plotly is not \" +\n",
    "    \"surprising. Capable of producing excellent quality graphics, R's Ggplot follows.\" \n",
    ")"
   ]
  },
  {
   "cell_type": "markdown",
   "metadata": {},
   "source": [
    "# For how many years have you used machine learning methods?"
   ]
  },
  {
   "cell_type": "code",
   "execution_count": null,
   "metadata": {},
   "outputs": [],
   "source": [
    "content(\n",
    "    \"Let's look at for how long people have been using ML.\"\n",
    ")"
   ]
  },
  {
   "cell_type": "code",
   "execution_count": null,
   "metadata": {},
   "outputs": [],
   "source": [
    "df = data.loc[1:, [\"Q2\", \"Q15\"]].dropna().reset_index(drop = True)\n",
    "\n",
    "df = df.rename(columns = {\n",
    "    \"Q2\": \"gender\",\n",
    "    \"Q15\": \"experience\"\n",
    "})\n",
    "\n",
    "df[\"experience\"] = df[\"experience\"].replace({\n",
    "    '20 or more years': \"> 20 years\",\n",
    "    'I do not use machine learning methods': \"Don't use ML\"\n",
    "})\n",
    "\n",
    "df[\"gender\"] = pd.Categorical(df[\"gender\"])\n",
    "\n",
    "order = [\n",
    "    \"Don't use ML\", 'Under 1 year', '1-2 years', '2-3 years', '3-4 years', '4-5 years', '5-10 years', \n",
    "    '10-20 years', \"> 20 years\"\n",
    "]\n",
    "df[\"experience\"] = pd.Categorical(\n",
    "    df[\"experience\"],\n",
    "    categories = order,\n",
    "    ordered = True\n",
    ")\n",
    "\n",
    "df = df.pivot_table(\n",
    "    index = \"experience\",\n",
    "    columns = \"gender\",\n",
    "    aggfunc = {\n",
    "        \"gender\": \"count\"\n",
    "    },\n",
    "    fill_value = 0\n",
    ")\n",
    "\n",
    "df.columns = df.columns.droplevel(0)\n",
    "df.columns.name = \"Gender\"\n",
    "\n",
    "df = df.apply(lambda x: x/x.sum())"
   ]
  },
  {
   "cell_type": "code",
   "execution_count": null,
   "metadata": {},
   "outputs": [],
   "source": [
    "cat = order\n",
    "N = len(cat)\n",
    "\n",
    "f, ax = plt.subplots()\n",
    "f.set_figheight(15)\n",
    "f.set_figwidth(15)\n",
    "for i, c in enumerate(categories):\n",
    "    values = list(df[c])\n",
    "    values += [values[0]]\n",
    " \n",
    "    angles = [n / float(N) * 2 * np.pi for n in range(N)]\n",
    "    angles += [angles[0]]\n",
    " \n",
    "    ax = plt.subplot(1, len(categories), i+1, polar=True)\n",
    "    plt.xticks(angles[:-1], cat, color='black', size=8)\n",
    "    plt.xlabel(c)\n",
    "    ax.set_rlabel_position(0)\n",
    "    ax.plot(angles, values, linewidth=1, linestyle='solid', color = palette[i])\n",
    "    ax.fill(angles, values, color = palette[i], alpha=0.1)\n",
    "    ax.set_theta_offset(np.deg2rad(90))\n",
    "    \n",
    "plt.tight_layout()"
   ]
  },
  {
   "cell_type": "code",
   "execution_count": null,
   "metadata": {},
   "outputs": [],
   "source": [
    "content(\n",
    "    \"Notice how similar the distributions are? In any gender group, most people belong to 'Under 1 year' \" +\n",
    "    \"of ML experience. This is followed by '1-2 years' and 'Don't use ML'. Irrespective of gender, there \" +\n",
    "    \"are hardly any people with a lot of experience.\"\n",
    ")"
   ]
  },
  {
   "cell_type": "markdown",
   "metadata": {},
   "source": [
    "# Which of the following machine learning frameworks do you use on a regular basis? (Select all that apply)"
   ]
  },
  {
   "cell_type": "code",
   "execution_count": null,
   "metadata": {},
   "outputs": [],
   "source": [
    "content(\n",
    "    \"Let's find out which ML frameworks are popular amongst each gender group.\"\n",
    ")"
   ]
  },
  {
   "cell_type": "code",
   "execution_count": null,
   "metadata": {},
   "outputs": [],
   "source": [
    "frame_cols = [\n",
    "    'Q16_Part_1', 'Q16_Part_2', 'Q16_Part_3', 'Q16_Part_4', 'Q16_Part_5', 'Q16_Part_6', 'Q16_Part_7', \n",
    "    'Q16_Part_8', 'Q16_Part_9', 'Q16_Part_10', 'Q16_Part_11', 'Q16_Part_12', 'Q16_Part_13', 'Q16_Part_14',\n",
    "    'Q16_Part_15', 'Q16_OTHER'\n",
    "]\n",
    "\n",
    "df = data.loc[1:, [\"Q2\"] + frame_cols]\n",
    "\n",
    "frame = [\n",
    "    \"Scikit-learn\", \"TensorFlow\", \"Keras\", \"PyTorch\", \"Fast.ai\", \"MXNet\", \"Xgboost\", \"LightGBM\", \"CatBoost\",\n",
    "    \"Prophet\", \"H2O 3\", \"Caret\", \"Tidymodels\", \"JAX\", \"None\", \"Other\"\n",
    "]\n",
    "df.columns = [\"gender\"] + frame\n",
    "\n",
    "df[df[frame].notnull()] = 1\n",
    "df = df.fillna(0)\n",
    "    \n",
    "df = df.groupby([\"gender\"]).sum()\n",
    "\n",
    "df = df.apply(lambda x: x/x.sum() * 100, axis = 1)\n",
    "\n",
    "df.columns.name = \"frameworks\"\n",
    "df = df.unstack().reset_index(name = \"count\")"
   ]
  },
  {
   "cell_type": "code",
   "execution_count": null,
   "metadata": {},
   "outputs": [],
   "source": [
    "sns.catplot( \n",
    "    x = \"frameworks\", \n",
    "    y =\"count\",\n",
    "    hue = \"gender\", \n",
    "    data = df, \n",
    "    palette = colors1,\n",
    "    s = 10,\n",
    "    jitter = True\n",
    ")\n",
    "plt.xlabel(\"ML Framework\")\n",
    "plt.ylabel(\"Number of Kagglers (Normalized)\")\n",
    "plt.xticks(rotation = 90)\n",
    "plt.title(\"Gender distribution over ml framework\")\n",
    "plt.show()"
   ]
  },
  {
   "cell_type": "code",
   "execution_count": null,
   "metadata": {},
   "outputs": [],
   "source": [
    "content(\n",
    "    \"In each category, the genders are somewhat close, indicating that people of any gender have similar \" +\n",
    "    \"tastes for ML frameworks. Scikit-learn is everyone's favourite, followed by other Python (mainly) \" +\n",
    "    \"based libraries including TensorFlow, Keras and PyTorch.\"\n",
    ")"
   ]
  },
  {
   "cell_type": "markdown",
   "metadata": {},
   "source": [
    "# Which of the following ML algorithms do you use on a regular basis? (Select all that apply)"
   ]
  },
  {
   "cell_type": "code",
   "execution_count": null,
   "metadata": {},
   "outputs": [],
   "source": [
    "content(\n",
    "    \"We previously looked at ML frameworks. Now let's look at ML algorithms popular in different \" +\n",
    "    \"gender groups.\"\n",
    ")"
   ]
  },
  {
   "cell_type": "code",
   "execution_count": null,
   "metadata": {},
   "outputs": [],
   "source": [
    "algo_cols = [\n",
    "    'Q17_Part_1', 'Q17_Part_2', 'Q17_Part_3', 'Q17_Part_4', 'Q17_Part_5', 'Q17_Part_6', 'Q17_Part_7', \n",
    "    'Q17_Part_8', 'Q17_Part_9', 'Q17_Part_10', 'Q17_Part_11', 'Q17_OTHER'\n",
    "]\n",
    "\n",
    "df = data.loc[1:, [\"Q2\"] + algo_cols]\n",
    "\n",
    "algo = [\n",
    "    \"Linear/Logistic Regression\", \"DT/RF\", \"GBM\", \"Bayesian\", \"Evolutionary\", \"DNN\", \"CNN\", \"GAN\", \"RNN\", \n",
    "    \"Transformers\", \"None\", \"Other\"\n",
    "]\n",
    "df.columns = [\"gender\"] + algo\n",
    "\n",
    "df[df[algo].notnull()] = 1\n",
    "df = df.fillna(0)\n",
    "    \n",
    "df = df.groupby([\"gender\"]).sum()\n",
    "    \n",
    "df = df.apply(lambda x: x/x.sum() * 100, axis = 1)\n",
    "\n",
    "df.columns.name = \"algo\"\n",
    "df = df.unstack().reset_index(name = \"count\")\n",
    "\n",
    "df[\"gender\"] = pd.Categorical(\n",
    "    df[\"gender\"],\n",
    "    categories = categories,\n",
    "    ordered = True\n",
    ")\n",
    "\n",
    "df = df.sort_values([\"gender\", \"algo\"])"
   ]
  },
  {
   "cell_type": "code",
   "execution_count": null,
   "metadata": {},
   "outputs": [],
   "source": [
    "col = [(t,)*len(algo) for t in palette]\n",
    "col = list(itertools.chain(*col)) \n",
    "\n",
    "lObjectsALLcnts = df[\"count\"]\n",
    "\n",
    "lObjectsALLlbls = df[\"algo\"]\n",
    "\n",
    "iN = len(lObjectsALLcnts)\n",
    "arrCnts = np.array(lObjectsALLcnts)\n",
    "\n",
    "theta=np.arange(0,2*np.pi,2*np.pi/iN)\n",
    "width = (2*np.pi)/iN *0.9\n",
    "bottom = 50\n",
    "\n",
    "fig = plt.figure(figsize=(6,6))\n",
    "ax = fig.add_axes([0.1, 0.1, 0.75, 0.75], polar=True)\n",
    "bars = ax.bar(theta, arrCnts, width=width, bottom=bottom, color=col)\n",
    "\n",
    "plt.axis('off')\n",
    "\n",
    "rotations = np.rad2deg(theta)\n",
    "y0,y1 = ax.get_ylim()\n",
    "\n",
    "for x, bar, rotation, label in zip(theta, bars, rotations, lObjectsALLlbls):\n",
    "    offset = (bottom+bar.get_height())/(y1-y0)\n",
    "    lab = ax.text(0, 0, label, transform=None, ha='center', va='center')\n",
    "    renderer = ax.figure.canvas.get_renderer()\n",
    "    bbox = lab.get_window_extent(renderer=renderer)\n",
    "    invb = ax.transData.inverted().transform([[0,0],[bbox.width,0] ])\n",
    "    lab.set_position((x,offset+(invb[1][0]-invb[0][0])/2.*2.7 ) )\n",
    "    lab.set_transform(ax.get_xaxis_transform())\n",
    "    lab.set_rotation(rotation)\n",
    "    \n",
    "plt.show()"
   ]
  },
  {
   "cell_type": "code",
   "execution_count": null,
   "metadata": {},
   "outputs": [],
   "source": [
    "content(\n",
    "    \"What do we see here? There appears to be a pattern in the liking for ML algorithms. Linear/Logistic \" +\n",
    "    \"Regression (two of the simplest approaches for regression and classification respectively) are most \" +\n",
    "    \"popular irrespective of gender. Decision Tress / Random Forest follows. In any gender group, simpler \" +\n",
    "    \"ML algorithms are much more popular than use of modern (and relatively difficult) ones like \" +\n",
    "    \"GANs and Transformers.\"\n",
    ")"
   ]
  },
  {
   "cell_type": "markdown",
   "metadata": {},
   "source": [
    "# Which categories of computer vision methods do you use on a regular basis? (Select all that apply)"
   ]
  },
  {
   "cell_type": "code",
   "execution_count": null,
   "metadata": {},
   "outputs": [],
   "source": [
    "content(\n",
    "    \"Computer vision methods are an important area of focus in the Machine Learning domain. Let's explore \" + \n",
    "    \"the computer vision methods popular amongst gender groups.\"\n",
    ")"
   ]
  },
  {
   "cell_type": "code",
   "execution_count": null,
   "metadata": {},
   "outputs": [],
   "source": [
    "cv_cols = [\n",
    "    'Q18_Part_1', 'Q18_Part_2', 'Q18_Part_3', 'Q18_Part_4', 'Q18_Part_5', 'Q18_Part_6', 'Q18_OTHER'\n",
    "]\n",
    "\n",
    "df = data.loc[1:, [\"Q2\"] + cv_cols]\n",
    "\n",
    "cv = [\n",
    "    \"General purpose\", \"Segmentation\", \"Object detection\", \"Classification\", \"Generative\", \"None\", \"Other\"\n",
    "]\n",
    "df.columns = [\"gender\"] + cv\n",
    "\n",
    "df[df[cv].notnull()] = 1\n",
    "df = df.fillna(0)\n",
    "    \n",
    "df = df.groupby([\"gender\"]).sum()\n",
    "    \n",
    "df = df.apply(lambda x: x/x.sum() * 100, axis = 1)\n",
    "\n",
    "df.columns.name = \"cv\"\n",
    "\n",
    "df = df.unstack().reset_index(name = \"count\")\n",
    "\n",
    "df[\"gender\"] = pd.Categorical(\n",
    "    df[\"gender\"],\n",
    "    categories = categories,\n",
    "    ordered = True\n",
    ")\n",
    "\n",
    "df = df.sort_values([\"cv\", \"gender\"])"
   ]
  },
  {
   "cell_type": "code",
   "execution_count": null,
   "metadata": {
    "scrolled": false
   },
   "outputs": [],
   "source": [
    "for c in set(df[\"cv\"]):\n",
    "    temp = df[df[\"cv\"] == c]\n",
    "\n",
    "    labels = list(temp[\"gender\"])\n",
    "    values = list(temp[\"count\"])\n",
    "    \n",
    "    #number of data points\n",
    "    n = len(values)\n",
    "    #find max value for full ring\n",
    "    k = 10 ** int(log10(max(values)))\n",
    "    m = k * (1 + max(values) // k)\n",
    "\n",
    "    #radius of donut chart\n",
    "    r = 1.5\n",
    "    #calculate width of each ring\n",
    "    w = r / n \n",
    "\n",
    "    #create figure, axis\n",
    "    fig, ax = plt.subplots()\n",
    "    ax.axis(\"equal\")\n",
    "\n",
    "    #create rings of donut chart\n",
    "    for i in range(n):\n",
    "        #hide labels in segments with textprops: alpha = 0 - transparent, alpha = 1 - visible\n",
    "        innerring, _ = ax.pie(\n",
    "            [m - values[i], values[i]], \n",
    "            radius = r - i * w, \n",
    "            startangle = 90, \n",
    "            labels = [\"\", labels[i]], \n",
    "            labeldistance = 1 - 1 / (1.5 * (n - i)), \n",
    "            textprops = {\"alpha\": 0}, \n",
    "            colors = [\"white\", palette[i]]\n",
    "        )\n",
    "        plt.setp(innerring, width = w, edgecolor = \"white\")\n",
    "\n",
    "    plt.legend(loc = \"upper center\")\n",
    "    plt.title(c)\n",
    "    plt.ylim(0, 3)\n",
    "    plt.show()"
   ]
  },
  {
   "cell_type": "code",
   "execution_count": null,
   "metadata": {},
   "outputs": [],
   "source": [
    "content(\n",
    "    \"It appears that different computer vision techniques are popular amongst different gender groups. For \" +\n",
    "    \"Object Detection methods are almost equally popular amongst all. Segmentation methods are popular \" +\n",
    "    \"amongst 'Woman' and 'Prefer not to say'. Generative modeling methods are popular amongst 'Prefer to \" +\n",
    "    \"self describe'. Classification methods are popular amongst 'Man', 'Woman' and 'Prefer not to say'.\"\n",
    ")"
   ]
  },
  {
   "cell_type": "markdown",
   "metadata": {},
   "source": [
    "# Which of the following natural language processing (NLP) methods do you use on a regular basis? (Select all that apply)"
   ]
  },
  {
   "cell_type": "code",
   "execution_count": null,
   "metadata": {},
   "outputs": [],
   "source": [
    "content(\n",
    "    \"Apart from Computer Vision methods, Natural Language Processing methods are an important area of \" +\n",
    "    \"focus in the Machine Learning domain. Let's explore which methods are liked by which groups.\"\n",
    ")"
   ]
  },
  {
   "cell_type": "code",
   "execution_count": null,
   "metadata": {},
   "outputs": [],
   "source": [
    "nlp_cols = [\n",
    "    \"Q19_Part_1\", \"Q19_Part_2\", \"Q19_Part_3\", \"Q19_Part_4\", \"Q19_Part_5\", \"Q19_OTHER\"\n",
    "]\n",
    "\n",
    "df = data.loc[1:, [\"Q2\"] + nlp_cols]\n",
    "\n",
    "nlp = [\n",
    "    \"Embedding vectors\", \"Encoder-decoder\", \"Contextual embeddings\", \"Transformer\", \"None\", \"Other\"\n",
    "]\n",
    "df.columns = [\"gender\"] + nlp\n",
    "\n",
    "df[df[nlp].notnull()] = 1\n",
    "df = df.fillna(0)\n",
    "    \n",
    "df = df.groupby([\"gender\"]).sum()\n",
    "\n",
    "df.columns.name = \"nlp\"\n",
    "df = df.unstack().reset_index(name = \"count\")"
   ]
  },
  {
   "cell_type": "code",
   "execution_count": null,
   "metadata": {},
   "outputs": [],
   "source": [
    "GetRedBar(df, categories, \"nlp\", \"NLP Method\")"
   ]
  },
  {
   "cell_type": "code",
   "execution_count": null,
   "metadata": {},
   "outputs": [],
   "source": [
    "content(\n",
    "    \"Embedding vectors are the most popular choice irrespective of gender. Encode-decoder frameworks and \" +\n",
    "    \"Transformers follow. These patterns are consistent across different gender groups.\"\n",
    ")"
   ]
  },
  {
   "cell_type": "markdown",
   "metadata": {},
   "source": [
    "# What is the size of the company where you are employed?"
   ]
  },
  {
   "cell_type": "code",
   "execution_count": null,
   "metadata": {},
   "outputs": [],
   "source": [
    "content(\n",
    "    \"Information about companies where people work tells us a lot about the opportunities people get. \"\n",
    ")"
   ]
  },
  {
   "cell_type": "code",
   "execution_count": null,
   "metadata": {},
   "outputs": [],
   "source": [
    "df = data.loc[1:, [\"Q2\", \"Q20\"]].dropna().reset_index(drop = True)\n",
    "\n",
    "df = df.rename(columns = {\n",
    "    \"Q2\": \"gender\",\n",
    "    \"Q20\": \"size\"\n",
    "})\n",
    "\n",
    "order = [\n",
    "    '0-49 employees', '50-249 employees', '250-999 employees', '1000-9,999 employees', \n",
    "    '10,000 or more employees' \n",
    "]\n",
    "df[\"size\"] = pd.Categorical(\n",
    "    df[\"size\"],\n",
    "    categories = order,\n",
    "    ordered = True\n",
    ")\n",
    "\n",
    "df = df.pivot_table(\n",
    "    index = \"size\", \n",
    "    columns = \"gender\", \n",
    "    aggfunc = {\n",
    "        \"gender\": \"count\"\n",
    "    },\n",
    "    fill_value = 0\n",
    ")\n",
    "\n",
    "df.columns = df.columns.droplevel(0)\n",
    "df.columns.name = \"Gender\"\n",
    "\n",
    "df = df + np.random.uniform(0, 1, df.shape[0])"
   ]
  },
  {
   "cell_type": "code",
   "execution_count": null,
   "metadata": {},
   "outputs": [],
   "source": [
    "fig = plt.figure(figsize = (25,5)) \n",
    "gs = fig.add_gridspec(1, len(categories))\n",
    "\n",
    "for i, cat in enumerate(categories):\n",
    "    ax = fig.add_subplot(gs[0, i])\n",
    "    \n",
    "    squarify.plot(\n",
    "        sizes = df[cat].values,  \n",
    "        label = df[cat].keys(), \n",
    "        color = sns.color_palette(\"magma_r\"),\n",
    "        alpha = 0.7,\n",
    "        text_kwargs = {\n",
    "            \"size\": 10\n",
    "        },\n",
    "        ax = ax\n",
    "    )\n",
    "    ax.axis(\"off\")\n",
    "    ax.set_title(cat)\n",
    "    \n",
    "plt.tight_layout()"
   ]
  },
  {
   "cell_type": "code",
   "execution_count": null,
   "metadata": {},
   "outputs": [],
   "source": [
    "content(\n",
    "    \"Interestingly, irrespective of gender, people mostly work at small sized comapies (0-49 employees). \" +\n",
    "    \"This trend is followed by slightly larger (50-249 employees). Despite disregarding the orientation of \" +\n",
    "    \"the partitions, there is at least one inconsistency in the pattern. In the 'Prefer to self describe' \" +\n",
    "    \"category, there are relatively very few who work at companies as large as 1000-9999 employees. \" +\n",
    "    \"This is not to say they are necessarily discriminated against, because many belonging to that category \" +\n",
    "    \"work at organizations with over 10000 employees.\"\n",
    ")"
   ]
  },
  {
   "cell_type": "markdown",
   "metadata": {},
   "source": [
    "# Approximately how many individuals are responsible for data science workloads at your place of business?"
   ]
  },
  {
   "cell_type": "code",
   "execution_count": null,
   "metadata": {},
   "outputs": [],
   "source": [
    "content(\n",
    "    \"Let's find out how people respond to this question.\"\n",
    ")"
   ]
  },
  {
   "cell_type": "code",
   "execution_count": null,
   "metadata": {},
   "outputs": [],
   "source": [
    "df = data.loc[1:, [\"Q2\", \"Q21\"]].dropna().reset_index(drop = True)\n",
    "\n",
    "df = df.rename(columns = {\n",
    "    \"Q2\": \"gender\",\n",
    "    \"Q21\": \"people\"\n",
    "})\n",
    "\n",
    "order = ['0', '1-2', '3-4', '5-9', '10-14', '15-19', '20+']\n",
    "df[\"people\"] = pd.Categorical(\n",
    "    df[\"people\"],\n",
    "    categories = order,\n",
    "    ordered = True\n",
    ")\n",
    "\n",
    "df = df.groupby([\"gender\", \"people\"]).agg(\n",
    "    count = pd.NamedAgg(\"gender\", \"count\")\n",
    ").reset_index()"
   ]
  },
  {
   "cell_type": "code",
   "execution_count": null,
   "metadata": {},
   "outputs": [],
   "source": [
    "cat = order\n",
    "N = len(cat)\n",
    "\n",
    "f, ax = plt.subplots()\n",
    "f.set_figheight(15)\n",
    "f.set_figwidth(15)\n",
    "for i, c in enumerate(categories):\n",
    "    temp = df[df[\"gender\"] == c]\n",
    "    values = list(temp[\"count\"])\n",
    "    values += [values[0]]\n",
    " \n",
    "    angles = [n / float(N) * 2 * np.pi for n in range(N)]\n",
    "    angles += [angles[0]]\n",
    " \n",
    "    ax = plt.subplot(1, len(categories), i+1, polar=True)\n",
    "    plt.xticks(angles[:-1], cat, color='black', size=8)\n",
    "    plt.xlabel(c)\n",
    "    ax.set_rlabel_position(0)\n",
    "    ax.plot(angles, values, linewidth=1, linestyle='solid', color = palette[i])\n",
    "    ax.fill(angles, values, color = palette[i], alpha=0.1)\n",
    "    ax.set_theta_offset(np.deg2rad(90))\n",
    "    \n",
    "plt.tight_layout()"
   ]
  },
  {
   "cell_type": "code",
   "execution_count": null,
   "metadata": {},
   "outputs": [],
   "source": [
    "content(\n",
    "    \"There isn't much of a pattern apparent in this case. Except for the 'Prefer to self-describe' category \" +\n",
    "    \"there are mostly only 1-2 people handling data science work loads. This is followed by 0 or 3-4 \" +\n",
    "    \"which are small numbers. 20+ is also a popular choice. It may be interpretted that there are either \" +\n",
    "    \"upto 4 people (perhaps in smaller companies) while about 20+ (perhaps in larger companies) which are \" +\n",
    "    \"responsible for workloads, irrespective of gender.\"\n",
    ")"
   ]
  },
  {
   "cell_type": "markdown",
   "metadata": {},
   "source": [
    "# Does your current employer incorporate machine learning methods into their business?"
   ]
  },
  {
   "cell_type": "code",
   "execution_count": null,
   "metadata": {},
   "outputs": [],
   "source": [
    "content(\n",
    "    \"The answer to this question gives us insights into what kind of places different gender groups work \" +\n",
    "    \"at. Companies incorporting ML methods into business (i.e. Data driven companies) may be regarded to \" +\n",
    "    \"be better than those which do not incorporate ML. It is well known that companies not leveraging \" +\n",
    "    \"data for decision making and running their business will fall behind those who do, in the near future.\"\n",
    ")"
   ]
  },
  {
   "cell_type": "code",
   "execution_count": null,
   "metadata": {},
   "outputs": [],
   "source": [
    "df = data.loc[1:, [\"Q2\", \"Q22\"]].dropna().reset_index(drop = True)\n",
    "\n",
    "df = df.rename(columns = {\n",
    "    \"Q2\": \"gender\",\n",
    "    \"Q22\": \"adopt\"\n",
    "})\n",
    "\n",
    "df[\"gender\"] = pd.Categorical(\n",
    "    df[\"gender\"],\n",
    "    categories = categories,\n",
    "    ordered = True\n",
    ")\n",
    "\n",
    "df[\"adopt\"] = df[\"adopt\"].replace({\n",
    "    \"No (we do not use ML methods)\": \"No\",\n",
    "    \"We are exploring ML methods (and may one day put a model into production)\": \"Exploring\",\n",
    "    \"We have well established ML methods (i.e., models in production for more than 2 years)\": \"Been >2 years\",\n",
    "    \"We recently started using ML methods (i.e., models in production for less than 2 years)\": \"Been <2 years\",\n",
    "    \"We use ML methods for generating insights (but do not put working models into production)\": \"Only insights\"\n",
    "})\n",
    "\n",
    "df = df.pivot_table(\n",
    "    index = \"adopt\", \n",
    "    columns = \"gender\", \n",
    "    aggfunc = {\n",
    "        \"gender\": \"count\"\n",
    "    },\n",
    "    fill_value = 0\n",
    ")\n",
    "\n",
    "df.columns = df.columns.droplevel(0)\n",
    "df.columns.name = \"Gender\"\n",
    "\n",
    "df = df.apply(lambda x: x/x.sum())"
   ]
  },
  {
   "cell_type": "code",
   "execution_count": null,
   "metadata": {},
   "outputs": [],
   "source": [
    "column_names = list(df.columns)\n",
    "row_names = list(df.index)\n",
    "\n",
    "fig = plt.figure()\n",
    "ax = Axes3D(fig)\n",
    "\n",
    "df = df.values\n",
    "\n",
    "lx= len(df[0])            # Work out matrix dimensions\n",
    "ly= len(df[:,0])\n",
    "xpos = np.arange(0,lx,1)    # Set up a mesh of positions\n",
    "ypos = np.arange(0,ly,1)\n",
    "xpos, ypos = np.meshgrid(xpos+0.25, ypos+0.25)\n",
    "\n",
    "xpos = xpos.flatten()   # Convert positions to 1D array\n",
    "ypos = ypos.flatten()\n",
    "zpos = np.zeros(lx*ly)\n",
    "\n",
    "dx = 0.5 * np.ones_like(zpos)\n",
    "dy = dx.copy()\n",
    "dz = df.flatten()\n",
    "\n",
    "ax.bar3d(xpos,ypos,zpos, dx, dy, dz, color=palette*ly)\n",
    "\n",
    "ax.w_xaxis.set_ticklabels([]) #column_names, rotation = 90)\n",
    "ax.w_yaxis.set_ticklabels(row_names, rotation = 90)\n",
    "# ax.set_xlabel('Letter')\n",
    "# ax.set_ylabel('Day')\n",
    "# ax.set_zlabel('Occurrence')\n",
    "ax.set_ylim3d(0, 10)\n",
    "\n",
    "plt.show()"
   ]
  },
  {
   "cell_type": "code",
   "execution_count": null,
   "metadata": {},
   "outputs": [],
   "source": [
    "content(\n",
    "    \"There appears to be a regular pattern. Irrespective of gender, most work at companies that have been \" +\n",
    "    \"using ML for at least 2 years now. Other popular choices include - 'Exploring' and 'Only insights'. \" +\n",
    "    \"Irrespective of gender, a lot of people have no knowledge of whether or not their companies us ML.\"\n",
    ")"
   ]
  },
  {
   "cell_type": "markdown",
   "metadata": {},
   "source": [
    "# Select any activities that make up an important part of your role at work: (Select all that apply)"
   ]
  },
  {
   "cell_type": "code",
   "execution_count": null,
   "metadata": {},
   "outputs": [],
   "source": [
    "content(\n",
    "    \"What people do at work gives us insights into things like - the positions they hold, the \" +  \n",
    "    \"opportunities they get and the kind of things they choose to do. Let's explore.\"\n",
    ")"
   ]
  },
  {
   "cell_type": "code",
   "execution_count": null,
   "metadata": {},
   "outputs": [],
   "source": [
    "role_cols = [\n",
    "    'Q23_Part_1', 'Q23_Part_2', 'Q23_Part_3', 'Q23_Part_4', 'Q23_Part_5', 'Q23_Part_6', 'Q23_Part_7', \n",
    "    'Q23_OTHER'\n",
    "]\n",
    "\n",
    "df = data.loc[1:, [\"Q2\"] + role_cols]\n",
    "\n",
    "role = [\n",
    "    \"Analyze and understand\", \"Build infrastructure\", \"Build prototype\", \"Build ML service\", \n",
    "    \"Experiment with ML\", \"Research\", \"None\", \"Other\"\n",
    "]\n",
    "df.columns = [\"gender\"] + role\n",
    "\n",
    "df[df[role].notnull()] = 1\n",
    "df = df.fillna(0)\n",
    "    \n",
    "df = df.groupby([\"gender\"]).sum()\n",
    "    \n",
    "df = df.apply(lambda x: x/x.sum(), axis = 1)"
   ]
  },
  {
   "cell_type": "code",
   "execution_count": null,
   "metadata": {},
   "outputs": [],
   "source": [
    "sns.clustermap(\n",
    "    df,\n",
    "    annot = True,\n",
    "    cmap = \"YlGnBu\",\n",
    "    fmt = \".2f\",\n",
    "    figsize = (7, 7)\n",
    ")\n",
    "plt.title(\"Normalized gender distribution over roles\")\n",
    "plt.show()"
   ]
  },
  {
   "cell_type": "code",
   "execution_count": null,
   "metadata": {},
   "outputs": [],
   "source": [
    "content(\n",
    "    \"There is a decreasing pattern of darkness from left to right for any gender group. In any case, \" + \n",
    "    \"people mostly work on analyzing and understanding data.\"\n",
    ")"
   ]
  },
  {
   "cell_type": "markdown",
   "metadata": {},
   "source": [
    "# What is your current yearly compensation (approximate USD)?"
   ]
  },
  {
   "cell_type": "code",
   "execution_count": null,
   "metadata": {},
   "outputs": [],
   "source": [
    "content(\n",
    "    \"Yearly compensation tells us how wealth is distributed amongst different gender groups. It is \" +\n",
    "    \"an important factor to consider when evaluating gender groups.\"\n",
    ")"
   ]
  },
  {
   "cell_type": "code",
   "execution_count": null,
   "metadata": {},
   "outputs": [],
   "source": [
    "df = data.loc[1:, [\"Q2\", \"Q24\"]].dropna().reset_index(drop = True)\n",
    "\n",
    "df = df.rename(columns = {\n",
    "    \"Q2\": \"gender\",\n",
    "    \"Q24\": \"compensation\"\n",
    "})\n",
    "\n",
    "order = [\n",
    "    '$0-999', '1,000-1,999', '2,000-2,999', '3,000-3,999', '4,000-4,999', '5,000-7,499', '7,500-9,999',\n",
    "    '10,000-14,999', '15,000-19,999', '20,000-24,999', '25,000-29,999', '30,000-39,999', '40,000-49,999',\n",
    "    '50,000-59,999', '60,000-69,999', '70,000-79,999', '80,000-89,999', '90,000-99,999', '100,000-124,999',\n",
    "    '125,000-149,999', '150,000-199,999', '200,000-249,999', '250,000-299,999', '300,000-500,000', \n",
    "    '> $500,000'\n",
    "]\n",
    "\n",
    "df[\"compensation\"] = pd.Categorical(\n",
    "    df[\"compensation\"],\n",
    "    categories = order,\n",
    "    ordered = True\n",
    ")\n",
    "\n",
    "df = df.groupby([\"gender\", \"compensation\"]).agg(\n",
    "    count = pd.NamedAgg(\"gender\", \"count\")\n",
    ").reset_index()\n",
    "\n",
    "df[\"normal_gender_count\"] = df.groupby([\"gender\"])[\"count\"].transform(lambda x: x/x.sum() * 100)\n",
    "df[\"normal_gender_count\"] = df[\"normal_gender_count\"] + np.random.uniform(0, 2, df.shape[0])"
   ]
  },
  {
   "cell_type": "code",
   "execution_count": null,
   "metadata": {},
   "outputs": [],
   "source": [
    "sns.catplot(\n",
    "    x = \"gender\", \n",
    "    y = \"normal_gender_count\", \n",
    "    hue = \"compensation\", \n",
    "    data = df, \n",
    "    s = 10,\n",
    "    jitter = True\n",
    ")\n",
    "plt.xlabel(\"Role\")\n",
    "plt.ylabel(\"Number of Kagglers (Normalized)\")\n",
    "plt.xticks(rotation = 90)\n",
    "plt.title(\"Normalized gender distribution over roles\")\n",
    "plt.show()"
   ]
  },
  {
   "cell_type": "code",
   "execution_count": null,
   "metadata": {},
   "outputs": [],
   "source": [
    "content(\n",
    "    \"What we see here is that irrespective of gender, the distribution of wealth within gender groups \" +\n",
    "    \"appears to be similar. With the exception of 'Nonbnary', most earn between 0-999 USD a year. \" +\n",
    "    \"In general, in any gender group, there are some who earn a lot, some who earn very little \" + \n",
    "    \"and some who earn in between.\"\n",
    ")"
   ]
  },
  {
   "cell_type": "markdown",
   "metadata": {},
   "source": [
    "# Approximately how much money have you (or your team) spent on machine learning and/or cloud computing services at home (or at work) in the past 5 years (approximate USD)?"
   ]
  },
  {
   "cell_type": "code",
   "execution_count": null,
   "metadata": {},
   "outputs": [],
   "source": [
    "content(\n",
    "    \"Let's find out how much gender groups have spent on ML cloud computing services.\"\n",
    ")"
   ]
  },
  {
   "cell_type": "code",
   "execution_count": null,
   "metadata": {},
   "outputs": [],
   "source": [
    "df = data.loc[1:, [\"Q2\", \"Q25\"]].dropna().reset_index(drop = True)\n",
    "\n",
    "df = df.rename(columns = {\n",
    "    \"Q2\": \"gender\",\n",
    "    \"Q25\": \"expenditure\"\n",
    "})\n",
    "\n",
    "df[\"expenditure\"] = df[\"expenditure\"].replace({\n",
    "    '$0 ($USD)': \"0\",\n",
    "    '$1-$99': \"1-99\",\n",
    "    '$10,000-$99,999': \"10000-99999\",\n",
    "    '$100,000 or more ($USD)': \">= 100000\",\n",
    "    '$100-$999': \"100-999\",\n",
    "    '$1000-$9,999': \"1000-9999\"\n",
    "})\n",
    "\n",
    "order = [\"0\", \"1-99\", \"100-999\", \"1000-9999\", \"10000-99999\", \">= 100000\"]\n",
    "df[\"expenditure\"] = pd.Categorical(\n",
    "    df[\"expenditure\"],\n",
    "    categories = order,\n",
    "    ordered = True\n",
    ")\n",
    "\n",
    "df = df.pivot_table(\n",
    "    index = \"expenditure\", \n",
    "    columns = \"gender\", \n",
    "    aggfunc = {\n",
    "        \"gender\": \"count\"\n",
    "    },\n",
    "    fill_value = 0\n",
    ")\n",
    "\n",
    "df.columns = df.columns.droplevel(0)\n",
    "df.columns.name = \"Gender\"\n",
    "\n",
    "df = df.apply(lambda x: x/x.sum()* 100)"
   ]
  },
  {
   "cell_type": "code",
   "execution_count": null,
   "metadata": {},
   "outputs": [],
   "source": [
    "plt.subplots(figsize = (25, 5))\n",
    "for i, c in enumerate(categories):\n",
    "    plt.subplot(1, 5, i+1)\n",
    "    \n",
    "    temp = df[c]\n",
    "\n",
    "    my_range = range(1, len(temp) + 1)\n",
    "    \n",
    "    plt.hlines(\n",
    "        y = my_range, \n",
    "        xmin = 0, \n",
    "        xmax = temp.values, \n",
    "        color = 'gray'\n",
    "    )\n",
    "\n",
    "    plt.plot(\n",
    "        temp.values, \n",
    "        my_range, \n",
    "        'o', \n",
    "        markersize = 11,\n",
    "        color = colors1[c]\n",
    "    )\n",
    "\n",
    "    plt.yticks(my_range, order)\n",
    "    plt.xlim(left = 0)\n",
    "    plt.title(c)\n",
    "    plt.xlabel(\"Number of Kagglers\")\n",
    "    plt.ylabel(\"Expenditure\")\n",
    "    \n",
    "plt.tight_layout()"
   ]
  },
  {
   "cell_type": "code",
   "execution_count": null,
   "metadata": {},
   "outputs": [],
   "source": [
    "content(\n",
    "    \"Notice the regular pattern over all gender groups? In each gender group, most have selected 0. Other \" +\n",
    "    \"selections also appear to be very similar.\"\n",
    ")"
   ]
  },
  {
   "cell_type": "markdown",
   "metadata": {},
   "source": [
    "# Which of the following cloud computing platforms do you use on a regular basis? (Select all that apply)"
   ]
  },
  {
   "cell_type": "code",
   "execution_count": null,
   "metadata": {},
   "outputs": [],
   "source": [
    "content(\n",
    "    \"Let's explore the different cloud computing platforms used by different gender groups.\"\n",
    ")"
   ]
  },
  {
   "cell_type": "code",
   "execution_count": null,
   "metadata": {},
   "outputs": [],
   "source": [
    "cloud_cols = [\n",
    "    \"Q26_A_Part_1\", \"Q26_A_Part_2\", \"Q26_A_Part_3\", \"Q26_A_Part_4\", \"Q26_A_Part_5\", \"Q26_A_Part_6\", \n",
    "    \"Q26_A_Part_7\", \"Q26_A_Part_8\", \"Q26_A_Part_9\", \"Q26_A_Part_10\", \"Q26_A_Part_11\", \"Q26_A_OTHER\"\n",
    "]\n",
    "\n",
    "df = data.loc[1:, [\"Q2\"] + cloud_cols]\n",
    "\n",
    "cloud = [\n",
    "    \"AWS\", \"Azure\", \"GCP\", \"IBM Cloud / Red Hat\", \"Oracle Cloud\", \"SAP Cloud\", \"Salesforce Cloud\",\n",
    "    \"VMware Cloud\", \"Alibaba Cloud\", \"Tencent Cloud\", \"None\", \"Other\"\n",
    "]\n",
    "df.columns = [\"gender\"] + cloud\n",
    "\n",
    "df[df[cloud].notnull()] = 1\n",
    "df = df.fillna(0)\n",
    "    \n",
    "df = df.groupby([\"gender\"]).sum()\n",
    "    \n",
    "df = df.apply(lambda x: x/x.sum() * 100, axis = 1)"
   ]
  },
  {
   "cell_type": "code",
   "execution_count": null,
   "metadata": {},
   "outputs": [],
   "source": [
    "df.plot(\n",
    "    kind = \"bar\",\n",
    "    stacked = True,\n",
    "    figsize = (10, 5),\n",
    "    colormap = \"plasma_r\",\n",
    "    width = 1,\n",
    "    alpha = 0.6\n",
    ")\n",
    "plt.ylim(0, 150)\n",
    "plt.xticks(rotation = 45)\n",
    "plt.yticks([])\n",
    "plt.xlabel(\"Gender\")\n",
    "plt.ylabel(\"Number of Kagglers (Normalized)\")\n",
    "plt.title(\"Normalized gender distribution over cloud platforms\")\n",
    "plt.legend(ncol = 4, loc = \"upper center\", title = \"Cloud Platforms\")\n",
    "\n",
    "ax = plt.gca()\n",
    "ax.grid(False)"
   ]
  },
  {
   "cell_type": "code",
   "execution_count": null,
   "metadata": {},
   "outputs": [],
   "source": [
    "content(\n",
    "    \"With the exception of 'Nonbinary', the pattern appears to be similar. In any gender category, most \" +\n",
    "    \"use AWS, followed by GCP and Azure. Other platforms do not seem to be very popular. \" + \n",
    "    \"A lot of people use 'None'. In the case of 'Nonbinary', relatively more use AWS.\"\n",
    ")"
   ]
  },
  {
   "cell_type": "markdown",
   "metadata": {},
   "source": [
    "# Which of the following cloud computing platforms do you hope to become more familiar with in the next 2 years?"
   ]
  },
  {
   "cell_type": "code",
   "execution_count": null,
   "metadata": {},
   "outputs": [],
   "source": [
    "content(\n",
    "    \"Let's look at which cloud platforms people hope to become more familiar with in the following years.\"\n",
    ")"
   ]
  },
  {
   "cell_type": "code",
   "execution_count": null,
   "metadata": {},
   "outputs": [],
   "source": [
    "cloud_cols = [\n",
    "    'Q26_B_Part_1', 'Q26_B_Part_2', 'Q26_B_Part_3', 'Q26_B_Part_4', 'Q26_B_Part_5', 'Q26_B_Part_6', \n",
    "    'Q26_B_Part_7', 'Q26_B_Part_8', 'Q26_B_Part_9', 'Q26_B_Part_10', 'Q26_B_Part_11', 'Q26_B_OTHER'\n",
    "]\n",
    "\n",
    "df = data.loc[1:, [\"Q2\"] + cloud_cols]\n",
    "\n",
    "cloud = [\n",
    "    \"AWS\", \"Azure\", \"GCP\", \"IBM Cloud / Red Hat\", \"Oracle Cloud\", \"SAP Cloud\", \"VMware Cloud\", \n",
    "    \"Salesforce Cloud\", \"Alibaba Cloud\", \"Tencent Cloud\", \"None\", \"Other\"\n",
    "]\n",
    "\n",
    "df.columns = [\"gender\"] + cloud\n",
    "\n",
    "df[df[cloud].notnull()] = 1\n",
    "df = df.fillna(0)\n",
    "    \n",
    "df = df.groupby([\"gender\"]).sum()\n",
    "    \n",
    "df.columns.name = \"cloud platform\"\n",
    "df = df.unstack().reset_index(name = \"count\")\n",
    "\n",
    "GetRedBar(df, categories, \"cloud platform\", \"Cloud Computing Platform\")"
   ]
  },
  {
   "cell_type": "code",
   "execution_count": null,
   "metadata": {},
   "outputs": [],
   "source": [
    "content(\n",
    "    \"Unsurprisingly, AWS is a popular choice but GCP does not seem to be far behind. Azure is the other \" +\n",
    "    \"popular choice in any gender group. Other platforms are not so popular.\"\n",
    ")"
   ]
  },
  {
   "cell_type": "markdown",
   "metadata": {},
   "source": [
    "# Do you use any of the following cloud computing products on a regular basis? (Select all that apply)"
   ]
  },
  {
   "cell_type": "code",
   "execution_count": null,
   "metadata": {},
   "outputs": [],
   "source": [
    "content(\n",
    "    \"Let's look at which cloud computing products are used by people on a regular basis.\"\n",
    ")"
   ]
  },
  {
   "cell_type": "code",
   "execution_count": null,
   "metadata": {},
   "outputs": [],
   "source": [
    "cloud_cols = [\n",
    "    \"Q27_A_Part_1\", \"Q27_A_Part_2\", \"Q27_A_Part_3\", \"Q27_A_Part_4\", \"Q27_A_Part_5\", \"Q27_A_Part_6\", \n",
    "    \"Q27_A_Part_7\", \"Q27_A_Part_8\", \"Q27_A_Part_9\", \"Q27_A_Part_10\", \"Q27_A_Part_11\", \"Q27_A_OTHER\"\n",
    "]\n",
    "\n",
    "df = data.loc[1:, [\"Q2\"] + cloud_cols]\n",
    "\n",
    "cloud = [\n",
    "    \"Amazon EC2\", \"AWS Lambda\", \"Amazon Elastic Container Service\", \"Azure Cloud Services\", \n",
    "    \"Microsoft Azure Container Instances\", \"Azure Functions\", \"Google Cloud Compute Engine\",\n",
    "    \"Google Cloud Functions\", \"Google Cloud Run\", \"Google Cloud App Engine\", \"No / None\", \"Other\"\n",
    "]\n",
    "df.columns = [\"gender\"] + cloud\n",
    "\n",
    "df[df[cloud].notnull()] = 1\n",
    "df = df.fillna(0)\n",
    "\n",
    "df[\"gender\"] = pd.Categorical(\n",
    "    df[\"gender\"],\n",
    "    categories = categories,\n",
    "    ordered = True\n",
    ")\n",
    "    \n",
    "df = df.groupby([\"gender\"]).sum()\n",
    "    \n",
    "temp = df.apply(lambda x: x/x.sum(), axis = 1)"
   ]
  },
  {
   "cell_type": "code",
   "execution_count": null,
   "metadata": {},
   "outputs": [],
   "source": [
    "plt.figure(figsize = (10, 8))\n",
    "for i, c in enumerate(categories):\n",
    "    (markerline, stemlines, baseline) = plt.stem(\n",
    "        temp.columns,\n",
    "        temp.loc[c]\n",
    "    )\n",
    "    plt.setp(\n",
    "        markerline, \n",
    "        marker = 'o', \n",
    "        markersize = 15,\n",
    "        markeredgewidth = 2, \n",
    "        color = palette[i]\n",
    "    )\n",
    "    plt.setp(stemlines, color = \"gold\")\n",
    "    plt.setp(baseline, visible = False)\n",
    "    plt.tick_params(labelsize = 12)\n",
    "    plt.xticks(rotation = 80)\n",
    "    plt.ylim(-0.05, 0.3)\n",
    "    \n",
    "    plt.xlabel(\"Cloud Products\")\n",
    "    plt.ylabel(\"Number of Kagglers (Normalized)\")\n",
    "    \n",
    "    plt.legend(categories)\n",
    "    plt.title(\"Gender distribution over cloud computing products\")\n",
    "    \n",
    "plt.tight_layout()"
   ]
  },
  {
   "cell_type": "code",
   "execution_count": null,
   "metadata": {},
   "outputs": [],
   "source": [
    "content(\n",
    "    \"It appears that different cloud products are used by different gender groups. For example, 'Nonbinary'\" +\n",
    "    \"regularly use Amazon EC2, AWS Lambda, Azure Container Instances and Azure Functions. 'Prefer to self \" +\n",
    "    \"describe' regularly use Azure Cloud Services and Google Cloud App Engine. A lot of them use other, \" +\n",
    "    \"lesser known services and there are whose who use None. There isn't an evident pattern in people's \" +\n",
    "    \"use of products. This could be attributed to the different roles people take up at work. This does not \" +\n",
    "    \"imply that any one is better than another.\"\n",
    ")"
   ]
  },
  {
   "cell_type": "markdown",
   "metadata": {},
   "source": [
    "# In the next 2 years, do you hope to become more familiar with any of these specific cloud computing products? (Select all that apply)"
   ]
  },
  {
   "cell_type": "code",
   "execution_count": null,
   "metadata": {},
   "outputs": [],
   "source": [
    "content(\n",
    "    \"Now that we know which cloud computing products people use on a regular basis, let's look at products \" +\n",
    "    \"they want to become familiar with in the next 2 years.\"\n",
    ")"
   ]
  },
  {
   "cell_type": "code",
   "execution_count": null,
   "metadata": {},
   "outputs": [],
   "source": [
    "cloud_cols = [\n",
    "    'Q27_B_Part_1', 'Q27_B_Part_2', 'Q27_B_Part_3', 'Q27_B_Part_4', 'Q27_B_Part_5', 'Q27_B_Part_6', \n",
    "    'Q27_B_Part_7', 'Q27_B_Part_8', 'Q27_B_Part_9', 'Q27_B_Part_10', 'Q27_B_Part_11', 'Q27_B_OTHER'\n",
    "]\n",
    "\n",
    "df = data.loc[1:, [\"Q2\"] + cloud_cols]\n",
    "\n",
    "df.columns = [\"gender\"] + cloud\n",
    "\n",
    "df[df[cloud].notnull()] = 1\n",
    "df = df.fillna(0)\n",
    "    \n",
    "df = df.groupby([\"gender\"]).sum()\n",
    "\n",
    "df.columns.name = \"cloud\"\n",
    "df = df.unstack().reset_index(name = \"count\")\n",
    "\n",
    "GetRedBar(df, categories, \"cloud\", \"Cloud Computing Product\")"
   ]
  },
  {
   "cell_type": "code",
   "execution_count": null,
   "metadata": {},
   "outputs": [],
   "source": [
    "content(\n",
    "    \"While 'Prefer to self describe' mainly want to learn Google  Cloud Functions and Google Cloud App \" + \n",
    "    \"Engine in the next 2 years, others intend to learn maily Google Cloud Compute Engine. In general, \" +\n",
    "    \"Google Cloud remains the platform of choice in any gender category.\"\n",
    ")"
   ]
  },
  {
   "cell_type": "markdown",
   "metadata": {},
   "source": [
    "# Do you use any of the following machine learning products on a regular basis? (Select all that apply)"
   ]
  },
  {
   "cell_type": "code",
   "execution_count": null,
   "metadata": {},
   "outputs": [],
   "source": [
    "content(\n",
    "    \"Let's explore the ML products used by gender groups on a regular bases.\"\n",
    ")"
   ]
  },
  {
   "cell_type": "code",
   "execution_count": null,
   "metadata": {},
   "outputs": [],
   "source": [
    "prod_cols = [\n",
    "    \"Q28_A_Part_1\", \"Q28_A_Part_2\", \"Q28_A_Part_3\", \"Q28_A_Part_4\", \"Q28_A_Part_5\", \"Q28_A_Part_6\", \n",
    "    \"Q28_A_Part_7\", \"Q28_A_Part_8\", \"Q28_A_Part_9\", \"Q28_A_Part_10\", \"Q28_A_OTHER\"\n",
    "]\n",
    "\n",
    "df = data.loc[1:, [\"Q2\"] + prod_cols]\n",
    "\n",
    "prod = [\n",
    "    \"Amazon SageMaker\", \"Amazon Forecast\", \"Amazon Rekognition\", \"Azure ML Studio\", \"Azure Cognitive Services\",\n",
    "    \"Google AI Platform\", \"Google Video AI\", \"Google Natural Language\", \"Google Vision AI\", \"No / None\", \n",
    "    \"Other\"\n",
    "]\n",
    "df.columns = [\"gender\"] + prod\n",
    "\n",
    "df[df[prod].notnull()] = 1\n",
    "df = df.fillna(0)\n",
    "    \n",
    "df = df.groupby([\"gender\"]).sum()\n",
    "    \n",
    "df = df.apply(lambda x: x/x.sum()*2000, axis = 1)\n",
    "\n",
    "df.columns.name = \"prod\"\n",
    "df = df.unstack().reset_index(name = \"count\")\n",
    "\n",
    "df[\"gender\"] = pd.Categorical(\n",
    "    df[\"gender\"],\n",
    "    categories = categories,\n",
    "    ordered = True\n",
    ")\n",
    "df = df.sort_values([\"gender\", \"prod\"], ignore_index = True)"
   ]
  },
  {
   "cell_type": "code",
   "execution_count": null,
   "metadata": {},
   "outputs": [],
   "source": [
    "fg = sns.FacetGrid(\n",
    "    data = df, \n",
    "    hue = 'gender',\n",
    "    hue_order = categories,\n",
    "    palette = \"Set2\", \n",
    "    height = 5, \n",
    "    aspect = 2\n",
    ")\n",
    "fg.map(plt.scatter, \"prod\", \"gender\", \"count\")\n",
    "plt.margins(0.1)\n",
    "plt.xlabel(\"ML Product\")\n",
    "plt.ylabel(\"Gender\")\n",
    "plt.xticks(rotation = 70)\n",
    "plt.title(\"Normalized gender distribution over regularly used ml products\")\n",
    "plt.show()"
   ]
  },
  {
   "cell_type": "code",
   "execution_count": null,
   "metadata": {},
   "outputs": [],
   "source": [
    "content(\n",
    "    \"The 'Nonbinary' category doesn't have enough data. Othrwise the pattern is quite regular. Most \" + \n",
    "    \"people belonging to any gender group do not use any ML products.\"\n",
    ")"
   ]
  },
  {
   "cell_type": "markdown",
   "metadata": {},
   "source": [
    "# In the next 2 years, do you hope to become more familiar with any of these specific machine learning products? (Select all that apply)"
   ]
  },
  {
   "cell_type": "code",
   "execution_count": null,
   "metadata": {},
   "outputs": [],
   "source": [
    "content(\n",
    "    \"Let's have a look at which ML products people hope to become more familiar with in the next 2 years.\"\n",
    ")"
   ]
  },
  {
   "cell_type": "code",
   "execution_count": null,
   "metadata": {},
   "outputs": [],
   "source": [
    "prod_cols = [\n",
    "    'Q28_B_Part_1', 'Q28_B_Part_2', 'Q28_B_Part_3', 'Q28_B_Part_4', 'Q28_B_Part_5', 'Q28_B_Part_6',\n",
    "    'Q28_B_Part_7', 'Q28_B_Part_8', 'Q28_B_Part_9', 'Q28_B_Part_10', 'Q28_B_OTHER'\n",
    "]\n",
    "\n",
    "df = data.loc[1:, [\"Q2\"] + prod_cols]\n",
    "\n",
    "prod = [\n",
    "    \"Amazon SageMaker\", \"Amazon Forecast\", \"Amazon Rekognition\", \"Azure ML Studio\", \"Azure Cognitive Services\",\n",
    "    \"Google AI Platform\", \"Google Video AI\", \"Google Natural Language\", \"Google Vision AI\", \"No / None\", \n",
    "    \"Other\"\n",
    "]\n",
    "df.columns = [\"gender\"] + prod\n",
    "\n",
    "df[df[prod].notnull()] = 1\n",
    "df = df.fillna(0)\n",
    "    \n",
    "df = df.groupby([\"gender\"]).sum()\n",
    "\n",
    "df.columns.name = \"prod\"\n",
    "df = df.unstack().reset_index(name = \"count\")\n",
    "\n",
    "GetRedBar(df, categories, \"prod\", \"ML Product\")"
   ]
  },
  {
   "cell_type": "code",
   "execution_count": null,
   "metadata": {},
   "outputs": [],
   "source": [
    "content(\n",
    "    \"While Google AI Platform is the most popular choice amongst 'Man', 'Woman' and 'Prefer not to say', \" +\n",
    "    \"those which belong to 'Prefer to self describe' and 'Nonbinary' intend to learn Google Cloud Natural \" +\n",
    "    \"Language. Google products appear to be quite popular in all gender groups.\"\n",
    ")"
   ]
  },
  {
   "cell_type": "markdown",
   "metadata": {},
   "source": [
    "# Which of the following big data products (relational databases, data warehouses, data lakes, or similar) do you use on a regular basis? (Select all that apply)"
   ]
  },
  {
   "cell_type": "code",
   "execution_count": null,
   "metadata": {},
   "outputs": [],
   "source": [
    "content(\n",
    "    \"Let's have a look at the big data products used by people on a regular basis.\"\n",
    ")"
   ]
  },
  {
   "cell_type": "code",
   "execution_count": null,
   "metadata": {},
   "outputs": [],
   "source": [
    "prod_cols = [\n",
    "    \"Q29_A_Part_1\", \"Q29_A_Part_2\", \"Q29_A_Part_3\", \"Q29_A_Part_4\", \"Q29_A_Part_5\", \"Q29_A_Part_6\", \n",
    "    \"Q29_A_Part_7\", \"Q29_A_Part_8\", \"Q29_A_Part_9\", \"Q29_A_Part_10\", \"Q29_A_Part_11\", \"Q29_A_Part_12\", \n",
    "    \"Q29_A_Part_13\", \"Q29_A_Part_14\", \"Q29_A_Part_15\", \"Q29_A_Part_16\", \"Q29_A_Part_17\", \"Q29_A_OTHER\"\n",
    "]\n",
    "\n",
    "df = data.loc[1:, [\"Q2\"] + prod_cols]\n",
    "\n",
    "prod = [\n",
    "    \"MySQL\", \"PostgreSQL\", \"SQLite\", \"Oracle Database\", \"MongoDB\", \"Snowflake\", \"IBM Db2\", \n",
    "    \"Microsoft SQL Server\", \"Microsoft Access\", \"Azure Data Lake Storage\", \"Amazon Redshift\", \"Amazon Athena\",\n",
    "    \"Amazon DynamoDB\", \"Google BigQuery\", \"Google Cloud SQL\", \"Google Firestore\", \"None\", \"Other\"\n",
    "]\n",
    "df.columns = [\"gender\"] + prod\n",
    "\n",
    "temp, df = GenderPiePlot(df, categories, prod)"
   ]
  },
  {
   "cell_type": "code",
   "execution_count": null,
   "metadata": {},
   "outputs": [],
   "source": [
    "content(\n",
    "    \"SQLite, PostgreSQL, MySQL and Microsoft SQL Server are popular choices. A lot of people use None. These\" +\n",
    "    \"trends are consistent through the gender categories. Minor deviations such as relatively high MySQL \" +\n",
    "    \"and low PostgreSQL in 'Prefer to self describe'.\"\n",
    ")"
   ]
  },
  {
   "cell_type": "markdown",
   "metadata": {},
   "source": [
    "# Which of the following big data products (relational databases, data warehouses, data lakes, or similar) do you hope to become more familiar with in the next 2 years? (Select all that apply)"
   ]
  },
  {
   "cell_type": "code",
   "execution_count": null,
   "metadata": {},
   "outputs": [],
   "source": [
    "content(\n",
    "    \"We saw the big data products used regularly. Now let's look at those big data products which people \" +\n",
    "    \"want to become more familiar with in the next 2 years.\"\n",
    ")"
   ]
  },
  {
   "cell_type": "code",
   "execution_count": null,
   "metadata": {},
   "outputs": [],
   "source": [
    "prod_cols = [\n",
    "    'Q29_B_Part_1', 'Q29_B_Part_2', 'Q29_B_Part_3', 'Q29_B_Part_4', 'Q29_B_Part_5', 'Q29_B_Part_6', \n",
    "    'Q29_B_Part_7', 'Q29_B_Part_8', 'Q29_B_Part_9', 'Q29_B_Part_10', 'Q29_B_Part_11', 'Q29_B_Part_12',\n",
    "    'Q29_B_Part_13', 'Q29_B_Part_14', 'Q29_B_Part_15', 'Q29_B_Part_16', 'Q29_B_Part_17', 'Q29_B_OTHER' \n",
    "]\n",
    "df = data.loc[1:, [\"Q2\"] + prod_cols]\n",
    "df.columns = [\"gender\"] + prod\n",
    "\n",
    "df[df[prod].notnull()] = 1\n",
    "df = df.fillna(0)\n",
    "    \n",
    "df = df.groupby([\"gender\"]).sum()\n",
    "df = df.apply(lambda x: x/x.sum(), axis = 1)\n",
    "df.columns.name = \"prod\"\n",
    "df = df.unstack().reset_index(name = \"count\")\n",
    "\n",
    "GetRedBar(df, categories, \"prod\", \"Big Data Products\")"
   ]
  },
  {
   "cell_type": "code",
   "execution_count": null,
   "metadata": {},
   "outputs": [],
   "source": [
    "content(\n",
    "    \"MySQL appears to be the favourite in all 5 cases. In the case of 'Nonbinary', PostgresSQL and MongoDB \" +\n",
    "    \"appear to be equally popular.\"\n",
    ")"
   ]
  },
  {
   "cell_type": "markdown",
   "metadata": {},
   "source": [
    "# Which of the following big data products (relational database, data warehouse, data lake, or similar) do you use most often?"
   ]
  },
  {
   "cell_type": "code",
   "execution_count": null,
   "metadata": {},
   "outputs": [],
   "source": [
    "content(\n",
    "    \"We've seen big data products that people use regularly and those that people would like to learn \" +\n",
    "    \"in the next 2 years. Let's see which ones are used most often.\"\n",
    ")"
   ]
  },
  {
   "cell_type": "code",
   "execution_count": null,
   "metadata": {},
   "outputs": [],
   "source": [
    "df = data.loc[1:, [\"Q2\", \"Q30\"]].dropna().reset_index(drop = True)\n",
    "\n",
    "df = df.rename(columns = {\n",
    "    \"Q2\": \"gender\",\n",
    "    \"Q30\": \"prod\"\n",
    "})\n",
    "\n",
    "df[\"prod\"] = pd.Categorical(\n",
    "    df[\"prod\"],\n",
    "    categories = set(df[\"prod\"])\n",
    ")\n",
    "\n",
    "df = df.groupby([\"gender\", \"prod\"]).agg(\n",
    "    count = pd.NamedAgg(\"gender\", \"count\")\n",
    ").reset_index()"
   ]
  },
  {
   "cell_type": "code",
   "execution_count": null,
   "metadata": {},
   "outputs": [],
   "source": [
    "for i, cat in enumerate(categories):\n",
    "    temp = df[df[\"gender\"] == cat]\n",
    "    max_count = temp[temp[\"count\"] == max(temp[\"count\"])]\n",
    "    other_sum = temp.drop(max_count.index)[\"count\"].sum()\n",
    "    \n",
    "    max_count = max_count.append({\n",
    "        \"gender\": cat,\n",
    "        \"prod\": \"Others\",\n",
    "        \"count\": other_sum\n",
    "    }, \n",
    "        ignore_index = True\n",
    "    )\n",
    "    \n",
    "    plt.subplot(1, 5, i+1)\n",
    "    max_count[\"count\"].plot(\n",
    "        kind = \"pie\",\n",
    "        explode = [0.1]*max_count.shape[0],   \n",
    "        autopct = \"%1.2f%%\", \n",
    "        pctdistance = 0.6,\n",
    "        wedgeprops = dict(width = 0.5),\n",
    "        colors = [\"red\"] * (max_count.shape[0] - 1) + [\"gray\"],\n",
    "        figsize = (15, 15),\n",
    "        labels = max_count[\"prod\"]\n",
    "    )\n",
    "    plt.ylabel(\"\")\n",
    "    plt.xlabel(cat)\n",
    "    \n",
    "plt.tight_layout()    "
   ]
  },
  {
   "cell_type": "code",
   "execution_count": null,
   "metadata": {},
   "outputs": [],
   "source": [
    "content(\n",
    "    \"Again, MySQL and PostgresSQL are the most popular choices. In the case of 'Prefer to self describe' \" +\n",
    "    \"and 'Nonbinary', there is an exceptional number of people contributing to the total. This is likely \" +\n",
    "    \"due to little data collection from these groups.\"\n",
    ")"
   ]
  },
  {
   "cell_type": "markdown",
   "metadata": {},
   "source": [
    "# Which of the following business intelligence tools do you use on a regular basis? (Select all that apply)"
   ]
  },
  {
   "cell_type": "code",
   "execution_count": null,
   "metadata": {},
   "outputs": [],
   "source": [
    "content(\n",
    "    \"With the advent of data era, Business Intelligence Tools became popular. Let's see the tools used by \" +\n",
    "    \"different groups.\"\n",
    ")"
   ]
  },
  {
   "cell_type": "code",
   "execution_count": null,
   "metadata": {},
   "outputs": [],
   "source": [
    "bi_cols = [\n",
    "    \"Q31_A_Part_1\", \"Q31_A_Part_2\", \"Q31_A_Part_3\", \"Q31_A_Part_4\", \"Q31_A_Part_5\", \"Q31_A_Part_6\", \n",
    "    \"Q31_A_Part_7\", \"Q31_A_Part_8\", \"Q31_A_Part_9\", \"Q31_A_Part_10\", \"Q31_A_Part_11\", \"Q31_A_Part_12\", \n",
    "    \"Q31_A_Part_13\", \"Q31_A_Part_14\", \"Q31_A_OTHER\"\n",
    "]\n",
    "\n",
    "df = data.loc[1:, [\"Q2\"] + bi_cols]\n",
    "\n",
    "bi = [\n",
    "    \"Amazon QuickSight\", \"Microsoft Power BI\", \"Google Data Studio\", \"Looker\", \"Tableau\", \"Salesforce\", \n",
    "    \"Einstein Analytics\", \"Qlik\", \"Domo\", \"TIBCO Spotfire\", \"Alteryx\", \"Sisense\", \"SAP Analytics Cloud\",\n",
    "    \"None\", \"Other\"\n",
    "]\n",
    "df.columns = [\"gender\"] + bi\n",
    "\n",
    "df[df[bi].notnull()] = 1\n",
    "df = df.fillna(0)\n",
    "    \n",
    "df = df.groupby([\"gender\"]).sum()\n",
    "    \n",
    "df = df.apply(lambda x: x/x.sum(), axis = 1)\n",
    "\n",
    "df.columns.name = \"bi\"\n",
    "df = df.unstack().reset_index(name = \"count\")"
   ]
  },
  {
   "cell_type": "code",
   "execution_count": null,
   "metadata": {},
   "outputs": [],
   "source": [
    "sns.catplot( \n",
    "    x = \"bi\", \n",
    "    y =\"count\",\n",
    "    hue = \"gender\", \n",
    "    data = df, \n",
    "    palette = colors1,\n",
    "    s = 10,\n",
    "    jitter = True\n",
    ")\n",
    "plt.xlabel(\"BI Tool\")\n",
    "plt.ylabel(\"Number of Kagglers (Normalized)\")\n",
    "plt.xticks(rotation = 90)\n",
    "plt.title(\"Gender distribution over bi tool\")\n",
    "plt.show()"
   ]
  },
  {
   "cell_type": "code",
   "execution_count": null,
   "metadata": {},
   "outputs": [],
   "source": [
    "content(\n",
    "    \"We see that gender groups cluster together in each category of BI Tool. This means that gender groups \" +\n",
    "    \"behave in a similar manner. Most participants selected None. Tableau is otherwise most popular.\"\n",
    ")"
   ]
  },
  {
   "cell_type": "markdown",
   "metadata": {},
   "source": [
    "# Which of the following business intelligence tools do you hope to become more familiar with in the next 2 years? (Select all that apply)"
   ]
  },
  {
   "cell_type": "code",
   "execution_count": null,
   "metadata": {},
   "outputs": [],
   "source": [
    "content(\n",
    "    \"Let's have a look at the BI Tools that people hope to become familiar with in the next 2 years.\"\n",
    ")"
   ]
  },
  {
   "cell_type": "code",
   "execution_count": null,
   "metadata": {},
   "outputs": [],
   "source": [
    "bi_cols = [\n",
    "    'Q31_B_Part_1', 'Q31_B_Part_2', 'Q31_B_Part_3', 'Q31_B_Part_4', 'Q31_B_Part_5', 'Q31_B_Part_6', \n",
    "    'Q31_B_Part_7', 'Q31_B_Part_8', 'Q31_B_Part_9', 'Q31_B_Part_10', 'Q31_B_Part_11', 'Q31_B_Part_12',\n",
    "    'Q31_B_Part_13', 'Q31_B_Part_14', 'Q31_B_OTHER'\n",
    "]\n",
    "\n",
    "df = data.loc[1:, [\"Q2\"] + bi_cols]\n",
    "\n",
    "bi = [\n",
    "    \"Microsoft Power BI\", \"Amazon QuickSight\", \"Google Data Studio\", \"Looker\", \"Tableau\", \"Salesforce\",\n",
    "    \"Einstein Analytics\", \"Qlik\", \"Domo\", \"TIBCO Spotfire\", \"Alteryx\", \"Sisense\", \"SAP Analytics Cloud\",\n",
    "    \"None\", \"Other\"\n",
    "]\n",
    "df.columns = [\"gender\"] + bi\n",
    "\n",
    "df[df[bi].notnull()] = 1\n",
    "df = df.fillna(0)\n",
    "    \n",
    "df = df.groupby([\"gender\"]).sum()\n",
    "    \n",
    "df = df.apply(lambda x: x/x.sum(), axis = 1)\n",
    "\n",
    "df.columns.name = \"bi\"\n",
    "\n",
    "df = df.unstack().reset_index(name = \"count\")"
   ]
  },
  {
   "cell_type": "code",
   "execution_count": null,
   "metadata": {},
   "outputs": [],
   "source": [
    "GetRedBar(df, categories, \"bi\", \"BI Tools\")"
   ]
  },
  {
   "cell_type": "code",
   "execution_count": null,
   "metadata": {},
   "outputs": [],
   "source": [
    "content(\n",
    "    \"Again, Tableau appears to be the favourite. In the case of 'Nonbinary', you may notice a minor deviation.\"\n",
    ")"
   ]
  },
  {
   "cell_type": "markdown",
   "metadata": {},
   "source": [
    "# Which of the following business intelligence tools do you use most often?"
   ]
  },
  {
   "cell_type": "code",
   "execution_count": null,
   "metadata": {},
   "outputs": [],
   "source": [
    "content(\n",
    "    \"We saw the dominance of Tableau. Should we see anything different this time?\"\n",
    ")"
   ]
  },
  {
   "cell_type": "code",
   "execution_count": null,
   "metadata": {},
   "outputs": [],
   "source": [
    "df = data.loc[1:, [\"Q2\", \"Q32\"]].dropna().reset_index(drop = True)\n",
    "\n",
    "df = df.rename(columns = {\n",
    "    \"Q2\": \"gender\",\n",
    "    \"Q32\": \"bi\"\n",
    "})\n",
    "\n",
    "df[\"gender\"] = pd.Categorical(\n",
    "    df[\"gender\"],\n",
    "    categories = categories,\n",
    "    ordered = True\n",
    ")\n",
    "\n",
    "df[\"bi\"] = pd.Categorical(\n",
    "    df[\"bi\"],\n",
    "    categories = set(df[\"bi\"])\n",
    ")\n",
    "\n",
    "df = df.groupby([\"gender\", \"bi\"]).agg(\n",
    "    count = pd.NamedAgg(\"gender\", \"count\")\n",
    ").reset_index()"
   ]
  },
  {
   "cell_type": "code",
   "execution_count": null,
   "metadata": {},
   "outputs": [],
   "source": [
    "GetRedBar(df, categories, \"bi\", \"BI Tools\")"
   ]
  },
  {
   "cell_type": "code",
   "execution_count": null,
   "metadata": {},
   "outputs": [],
   "source": [
    "content(\n",
    "    \"We do not see anything different this time. Tableau is the winner. Deviations can be observed in the \" +\n",
    "    \"case of 'Prefer to self describe'.\"\n",
    ")"
   ]
  },
  {
   "cell_type": "markdown",
   "metadata": {},
   "source": [
    "# Do you use any automated machine learning tools (or partial AutoML tools) on a regular basis? (Select all that apply)"
   ]
  },
  {
   "cell_type": "code",
   "execution_count": null,
   "metadata": {},
   "outputs": [],
   "source": [
    "content(\n",
    "    \"As Data Science and Machine Learning became popular, people realized that there was a somewhat fixed \" +\n",
    "    \"sequence of steps that needed to be followed to get decent if not the best output. For example, the \" +\n",
    "    \"analysis process begins with cleaning tasks such as filling in missing values, then processing and \" +\n",
    "    \"finally post processing. It was quicky realized that these could be automated in many cases. Thus came \" +\n",
    "    \"into existence AutoML.\"\n",
    ")"
   ]
  },
  {
   "cell_type": "code",
   "execution_count": null,
   "metadata": {},
   "outputs": [],
   "source": [
    "automl_cols = [\n",
    "    'Q33_A_Part_1', 'Q33_A_Part_2', 'Q33_A_Part_3', 'Q33_A_Part_4', 'Q33_A_Part_5', 'Q33_A_Part_6', \n",
    "    'Q33_A_Part_7', 'Q33_A_OTHER'\n",
    "]\n",
    "\n",
    "df = data.loc[1:, [\"Q2\"] + automl_cols]\n",
    "\n",
    "automl = [\n",
    "    \"Augmentation\", \"Feature engineering / selection\", \"Model selection\", \"Model architecture\", \n",
    "    \"Hyperparameter tuning\", \"ML pipelines\", \"No / None\", \"Other\"\n",
    "]\n",
    "df.columns = [\"gender\"] + automl\n",
    "\n",
    "df[df[automl].notnull()] = 1\n",
    "df = df.fillna(0)\n",
    "    \n",
    "df = df.groupby([\"gender\"]).sum()\n",
    "    \n",
    "df = df.apply(lambda x: x/x.sum(), axis = 1)\n",
    "\n",
    "df.columns.name = \"automl\"\n",
    "df = df.unstack().reset_index(name = \"count\")\n",
    "\n",
    "df = df.sort_values([\"gender\", \"automl\"], ignore_index = True)"
   ]
  },
  {
   "cell_type": "code",
   "execution_count": null,
   "metadata": {},
   "outputs": [],
   "source": [
    "cat = set(df[\"automl\"])\n",
    "N = len(cat)\n",
    "\n",
    "f, ax = plt.subplots()\n",
    "f.set_figheight(20)\n",
    "f.set_figwidth(20)\n",
    "for i, c in enumerate(categories):\n",
    "    temp = df[df[\"gender\"] == c]\n",
    "    values = list(temp[\"count\"])\n",
    "    values += [values[0]]\n",
    " \n",
    "    angles = [n / float(N) * 2 * np.pi for n in range(N)]\n",
    "    angles += [angles[0]]\n",
    " \n",
    "    ax = plt.subplot(1, len(categories), i+1, polar=True)\n",
    "    plt.xticks(angles[:-1], cat, color='black', size=8)\n",
    "    plt.xlabel(c)\n",
    "    ax.set_rlabel_position(0)\n",
    "    ax.plot(angles, values, linewidth=1, linestyle='solid', color = palette[i])\n",
    "    ax.fill(angles, values, color = palette[i], alpha=0.1)\n",
    "    ax.set_theta_offset(np.deg2rad(90))\n",
    "    \n",
    "plt.tight_layout()"
   ]
  },
  {
   "cell_type": "code",
   "execution_count": null,
   "metadata": {},
   "outputs": [],
   "source": [
    "content(\n",
    "    \"With the exception of 'Nonbinary' group, the trend is somewhat similar. Most use AutoML for \" +\n",
    "    \"Hyperparameter Tuning. In the case of  'Nonbinary' group, people seem to use other tools relatively more.\"\n",
    ")"
   ]
  },
  {
   "cell_type": "markdown",
   "metadata": {},
   "source": [
    "# Which categories of automated machine learning tools (or partial AutoML tools) do you hope to become more familiar with in the next 2 years? (Select all that apply)"
   ]
  },
  {
   "cell_type": "code",
   "execution_count": null,
   "metadata": {},
   "outputs": [],
   "source": [
    "content(\n",
    "    \"While certain tasks can be fully automated. Many tasks that we seem to automate can only be partially \" +\n",
    "    \"automated. That said, let's have a look at partial AutoML tools.\"\n",
    ")"
   ]
  },
  {
   "cell_type": "code",
   "execution_count": null,
   "metadata": {},
   "outputs": [],
   "source": [
    "automl_cols = [\n",
    "    'Q33_B_Part_1', 'Q33_B_Part_2', 'Q33_B_Part_3', 'Q33_B_Part_4', 'Q33_B_Part_5', 'Q33_B_Part_6',\n",
    "    'Q33_B_Part_7', 'Q33_B_OTHER'\n",
    "]\n",
    "\n",
    "df = data.loc[1:, [\"Q2\"] + automl_cols]\n",
    "\n",
    "df.columns = [\"gender\"] + automl\n",
    "\n",
    "df[df[automl].notnull()] = 1\n",
    "df = df.fillna(0)\n",
    "    \n",
    "df = df.groupby([\"gender\"]).sum()\n",
    "    \n",
    "df = df.apply(lambda x: x/x.sum(), axis = 1)\n",
    "\n",
    "df.columns.name = \"automl\"\n",
    "\n",
    "df = df.unstack().reset_index(name = \"count\")"
   ]
  },
  {
   "cell_type": "code",
   "execution_count": null,
   "metadata": {},
   "outputs": [],
   "source": [
    "GetRedBar(df, categories, \"automl\", \"AutoML\")"
   ]
  },
  {
   "cell_type": "code",
   "execution_count": null,
   "metadata": {},
   "outputs": [],
   "source": [
    "content(\n",
    "    \"Itterspective of gendr, Model Selection seems to be the favourite. Minor deviations can be observed \" +\n",
    "    \"in the case of 'Prefer to self describe' and 'Nonbinary' categories.\"\n",
    ")"
   ]
  },
  {
   "cell_type": "markdown",
   "metadata": {},
   "source": [
    "# Which of the following automated machine learning tools (or partial AutoML tools) do you use on a regular basis? (Select all that apply)"
   ]
  },
  {
   "cell_type": "code",
   "execution_count": null,
   "metadata": {},
   "outputs": [],
   "source": [
    "content(\n",
    "    \"Let's have a look at which automated machine learning tools are used by people on a regular basis.\"\n",
    ")"
   ]
  },
  {
   "cell_type": "code",
   "execution_count": null,
   "metadata": {},
   "outputs": [],
   "source": [
    "automl_cols = [\n",
    "    'Q34_A_Part_1', 'Q34_A_Part_2', 'Q34_A_Part_3', 'Q34_A_Part_4', 'Q34_A_Part_5', 'Q34_A_Part_6', \n",
    "    'Q34_A_Part_7', 'Q34_A_Part_8', 'Q34_A_Part_9', 'Q34_A_Part_10', 'Q34_A_Part_11', 'Q34_A_OTHER'\n",
    "]\n",
    "\n",
    "df = data.loc[1:, [\"Q2\"] + automl_cols]\n",
    "\n",
    "automl = [\n",
    "    \"Google Cloud AutoML\", \"H20 Driverless AI\", \"Databricks AutoML\", \"DataRobot AutoML\", \"Tpot\", \"Auto-Keras\",\n",
    "    \"Auto-Sklearn\", \"Auto_ml\", \"Xcessiv\", \"MLbox\", \"No / None\", \"Other\"\n",
    "]\n",
    "df.columns = [\"gender\"] + automl\n",
    "\n",
    "df[df[automl].notnull()] = 1\n",
    "df = df.fillna(0)\n",
    "    \n",
    "df = df.groupby([\"gender\"]).sum()\n",
    "    \n",
    "df = df.apply(lambda x: x/x.sum()*100, axis = 1)"
   ]
  },
  {
   "cell_type": "code",
   "execution_count": null,
   "metadata": {},
   "outputs": [],
   "source": [
    "df.plot(\n",
    "    kind = \"bar\",\n",
    "    stacked = True,\n",
    "    figsize = (10, 5),\n",
    "    colormap = \"plasma_r\",\n",
    "    width = 1,\n",
    "    alpha = 0.6\n",
    ")\n",
    "plt.ylim(0, 150)\n",
    "plt.xticks(rotation = 45)\n",
    "plt.yticks([])\n",
    "plt.xlabel(\"Gender\")\n",
    "plt.ylabel(\"Number of Kagglers (Normalized)\")\n",
    "plt.title(\"Normalized gender distribution over regularly used ML Tools\")\n",
    "plt.legend(ncol = 4, loc = \"upper center\", title = \"Regular ML Tools\")\n",
    "\n",
    "ax = plt.gca()\n",
    "ax.grid(False)"
   ]
  },
  {
   "cell_type": "code",
   "execution_count": null,
   "metadata": {},
   "outputs": [],
   "source": [
    "content(\n",
    "    \"With the exception of 'Nonbinary', the gender groups appear to have a similar usage pattern.\" \n",
    ")"
   ]
  },
  {
   "cell_type": "markdown",
   "metadata": {},
   "source": [
    "# Which specific automated machine learning tools (or partial AutoML tools) do you hope to become more familiar with in the next 2 years? (Select all that apply)"
   ]
  },
  {
   "cell_type": "code",
   "execution_count": null,
   "metadata": {},
   "outputs": [],
   "source": [
    "content(\n",
    "    \"Let's now see which automated machine learning tools do people hope to become familiar with in the \" +\n",
    "    \"next 2 years.\"\n",
    ")"
   ]
  },
  {
   "cell_type": "code",
   "execution_count": null,
   "metadata": {},
   "outputs": [],
   "source": [
    "automl_cols = [\n",
    "    'Q34_B_Part_1', 'Q34_B_Part_2', 'Q34_B_Part_3', 'Q34_B_Part_4', 'Q34_B_Part_5', 'Q34_B_Part_6', \n",
    "    'Q34_B_Part_7', 'Q34_B_Part_8', 'Q34_B_Part_9', 'Q34_B_Part_10', 'Q34_B_Part_11', 'Q34_B_OTHER'\n",
    "]\n",
    "\n",
    "df = data.loc[1:, [\"Q2\"] + automl_cols]\n",
    "\n",
    "df.columns = [\"gender\"] + automl\n",
    "\n",
    "df[df[automl].notnull()] = 1\n",
    "df = df.fillna(0)\n",
    "    \n",
    "df = df.groupby([\"gender\"]).sum()\n",
    "    \n",
    "df = df.apply(lambda x: x/x.sum(), axis = 1)\n",
    "\n",
    "df.columns.name = \"automl\"\n",
    "df = df.unstack().reset_index(name = \"count\")"
   ]
  },
  {
   "cell_type": "code",
   "execution_count": null,
   "metadata": {},
   "outputs": [],
   "source": [
    "GetRedBar(df, categories, \"automl\", \"AutoML\")"
   ]
  },
  {
   "cell_type": "code",
   "execution_count": null,
   "metadata": {},
   "outputs": [],
   "source": [
    "content(\n",
    "    \"Auto-sklearn is unsurprisingly the favourite. 'prefer not to say', 'Prefer to self describe' and \" +\n",
    "    \"'Nonbinary' groups also have a liking for other tools such as Google Cloud AutoML. Liking for Google \" +\n",
    "    \"products is evident in other groups as well. Even previously we saw how popular Google Cloud is.\"\n",
    ")"
   ]
  },
  {
   "cell_type": "markdown",
   "metadata": {},
   "source": [
    "# Do you use any tools to help manage machine learning experiments? (Select all that apply)"
   ]
  },
  {
   "cell_type": "code",
   "execution_count": null,
   "metadata": {},
   "outputs": [],
   "source": [
    "content(\n",
    "    \"Managing Machine Learning Experiments is critical for Data Scientists and Machine Learning Engineers. \" +\n",
    "    \"Let's explore the tools people use to manage ML experiments.\"\n",
    ")"
   ]
  },
  {
   "cell_type": "code",
   "execution_count": null,
   "metadata": {},
   "outputs": [],
   "source": [
    "exp_cols = [\n",
    "    'Q35_A_Part_1', 'Q35_A_Part_2', 'Q35_A_Part_3', 'Q35_A_Part_4', 'Q35_A_Part_5', 'Q35_A_Part_6', \n",
    "    'Q35_A_Part_7', 'Q35_A_Part_8', 'Q35_A_Part_9', 'Q35_A_Part_10', 'Q35_A_OTHER'\n",
    "]\n",
    "\n",
    "df = data.loc[1:, [\"Q2\"] + exp_cols]\n",
    "\n",
    "exp = [\n",
    "    \"Neptune.ai\", \"Weights & Biases\", \"Comet.ml\", \"Sacred + Omniboard\", \"TensorBoard\", \"Guild.ai\", \"Polyaxon\",\n",
    "    \"Trains\", \"Domino Model Monitor\", \"No / None\", \"Other\"\n",
    "]\n",
    "df.columns = [\"gender\"] + exp\n",
    "\n",
    "df[df[exp].notnull()] = 1\n",
    "df = df.fillna(0)\n",
    "    \n",
    "df = df.groupby([\"gender\"]).sum()\n",
    "    \n",
    "df = df.apply(lambda x: x/x.sum()*100, axis = 1)\n",
    "\n",
    "df.columns.name = \"Manage ML Experiments\"\n",
    "df = df.unstack().reset_index(name = \"count\")\n",
    "\n",
    "df = df.sort_values([\"gender\", \"Manage ML Experiments\"])"
   ]
  },
  {
   "cell_type": "code",
   "execution_count": null,
   "metadata": {},
   "outputs": [],
   "source": [
    "col = [(t,)*len(exp) for t in palette]\n",
    "col = list(itertools.chain(*col)) \n",
    "\n",
    "lObjectsALLcnts = df[\"count\"]\n",
    "\n",
    "lObjectsALLlbls = df[\"Manage ML Experiments\"]\n",
    "\n",
    "iN = len(lObjectsALLcnts)\n",
    "arrCnts = np.array(lObjectsALLcnts)\n",
    "\n",
    "theta=np.arange(0,2*np.pi,2*np.pi/iN)\n",
    "width = (2*np.pi)/iN *0.9\n",
    "bottom = 50\n",
    "\n",
    "fig = plt.figure(figsize=(10, 10))\n",
    "ax = fig.add_axes([0.1, 0.1, 0.75, 0.75], polar=True)\n",
    "bars = ax.bar(theta, arrCnts, width=width, bottom=bottom, color=col)\n",
    "\n",
    "plt.axis('off')\n",
    "\n",
    "rotations = np.rad2deg(theta)\n",
    "y0,y1 = ax.get_ylim()\n",
    "\n",
    "for x, bar, rotation, label in zip(theta, bars, rotations, lObjectsALLlbls):\n",
    "    offset = (bottom+bar.get_height())/(y1-y0)\n",
    "    lab = ax.text(0, 0, label, transform=None, ha='center', va='center')\n",
    "    renderer = ax.figure.canvas.get_renderer()\n",
    "    bbox = lab.get_window_extent(renderer=renderer)\n",
    "    invb = ax.transData.inverted().transform([[0,0],[bbox.width,0] ])\n",
    "    lab.set_position((x,offset+(invb[1][0]-invb[0][0])/2.*2.7 ) )\n",
    "    lab.set_transform(ax.get_xaxis_transform())\n",
    "    lab.set_rotation(rotation)\n",
    "    \n",
    "plt.show()"
   ]
  },
  {
   "cell_type": "code",
   "execution_count": null,
   "metadata": {},
   "outputs": [],
   "source": [
    "content(\n",
    "    \"Irrespective of gender, most people selected 'None'. Amongst the tools used, TensorBoard is the most \" +\n",
    "    \"popular choice irrespective of gender.\"\n",
    ")"
   ]
  },
  {
   "cell_type": "markdown",
   "metadata": {},
   "source": [
    "# In the next 2 years, do you hope to become more familiar with any of these tools for managing ML experiments? (Select all that apply)"
   ]
  },
  {
   "cell_type": "code",
   "execution_count": null,
   "metadata": {},
   "outputs": [],
   "source": [
    "content(\n",
    "    \"Let's now see which tools people hope to become familiar with in the following years.\"\n",
    ")"
   ]
  },
  {
   "cell_type": "code",
   "execution_count": null,
   "metadata": {},
   "outputs": [],
   "source": [
    "exp_cols = [\n",
    "    'Q35_B_Part_1', 'Q35_B_Part_2', 'Q35_B_Part_3', 'Q35_B_Part_4', 'Q35_B_Part_5', 'Q35_B_Part_6', \n",
    "    'Q35_B_Part_7', 'Q35_B_Part_8', 'Q35_B_Part_9', 'Q35_B_Part_10', 'Q35_B_OTHER'\n",
    "]\n",
    "\n",
    "df = data.loc[1:, [\"Q2\"] + exp_cols]\n",
    "\n",
    "df.columns = [\"gender\"] + exp\n",
    "\n",
    "df[df[exp].notnull()] = 1\n",
    "df = df.fillna(0)\n",
    "    \n",
    "df = df.groupby([\"gender\"]).sum()\n",
    "    \n",
    "df = df.apply(lambda x: x/x.sum(), axis = 1)\n",
    "\n",
    "df.columns.name = \"exp\"\n",
    "df = df.unstack().reset_index(name = \"count\")"
   ]
  },
  {
   "cell_type": "code",
   "execution_count": null,
   "metadata": {},
   "outputs": [],
   "source": [
    "GetRedBar(df, categories, \"exp\", \"ML Experiments\")"
   ]
  },
  {
   "cell_type": "code",
   "execution_count": null,
   "metadata": {},
   "outputs": [],
   "source": [
    "content(\n",
    "    \"While 'Man', 'Woman' and 'Prefer to self describe' intend to learn TensorBoard, most people belonging \" +\n",
    "    \"to 'Prefer to self describe' and 'Nonbinary' groups selected 'None'. TensorBoard was however the \" +\n",
    "    \"second most popular choice of these two groups.\"\n",
    ")"
   ]
  },
  {
   "cell_type": "markdown",
   "metadata": {},
   "source": [
    "# Where do you publicly share or deploy your data analysis or machine learning applications? (Select all that apply)"
   ]
  },
  {
   "cell_type": "code",
   "execution_count": null,
   "metadata": {},
   "outputs": [],
   "source": [
    "content(\n",
    "    \"It is important to understand the deployment side of the Machine Learning pipeline because \" +\n",
    "    \"without deployment, ML products or projects become inaccessible to the world. It is only through \" +\n",
    "    \"open-source and code sharing that most great projects have come into being.\"\n",
    ")"
   ]
  },
  {
   "cell_type": "code",
   "execution_count": null,
   "metadata": {},
   "outputs": [],
   "source": [
    "share_cols = [\n",
    "    'Q36_Part_1', 'Q36_Part_2', 'Q36_Part_3', 'Q36_Part_4', 'Q36_Part_5', 'Q36_Part_6', 'Q36_Part_7', \n",
    "    'Q36_Part_8', 'Q36_Part_9', 'Q36_OTHER'\n",
    "]\n",
    "\n",
    "df = data.loc[1:, [\"Q2\"] + share_cols]\n",
    "\n",
    "share = [\n",
    "    \"Plotly Dash\", \"Streamlit\", \"NBViewer\", \"GitHub\", \"Personal blog\", \"Kaggle\", \"Colab\", \"Shiny\", \"None\",\n",
    "    \"Other\"\n",
    "]\n",
    "df.columns = [\"gender\"] + share\n",
    "\n",
    "df[df[share].notnull()] = 1\n",
    "df = df.fillna(0)\n",
    "    \n",
    "df = df.groupby([\"gender\"]).sum()\n",
    "    \n",
    "df = df.apply(lambda x: x/x.sum()*2000, axis = 1)\n",
    "\n",
    "df.columns.name = \"share\"\n",
    "df = df.unstack().reset_index(name = \"count\")\n",
    "\n",
    "df[\"gender\"] = pd.Categorical(\n",
    "    df[\"gender\"],\n",
    "    categories = categories,\n",
    "    ordered = True\n",
    ")\n",
    "\n",
    "df = df.sort_values([\"gender\", \"share\"], ignore_index = True)"
   ]
  },
  {
   "cell_type": "code",
   "execution_count": null,
   "metadata": {},
   "outputs": [],
   "source": [
    "fg = sns.FacetGrid(\n",
    "    data = df, \n",
    "    hue = 'gender',\n",
    "    hue_order = categories,\n",
    "    palette = \"Set2\", \n",
    "    height = 5, \n",
    "    aspect = 2\n",
    ")\n",
    "fg.map(plt.scatter, \"share\", \"gender\", \"count\")\n",
    "plt.margins(0.1)\n",
    "plt.xlabel(\"ML Product\")\n",
    "plt.ylabel(\"Gender\")\n",
    "plt.xticks(rotation = 70)\n",
    "plt.title(\"Normalized gender distribution over preferred sharing platform\")\n",
    "plt.show()"
   ]
  },
  {
   "cell_type": "code",
   "execution_count": null,
   "metadata": {},
   "outputs": [],
   "source": [
    "content(\n",
    "    \"The patterns are quite similar across the gender categories. Most prefer GitHub. The second most \" +\n",
    "    \"common choice was None. Other options weren't too common.\"\n",
    ")"
   ]
  },
  {
   "cell_type": "markdown",
   "metadata": {},
   "source": [
    "# On which platforms have you begun or completed data science courses? (Select all that apply)"
   ]
  },
  {
   "cell_type": "code",
   "execution_count": null,
   "metadata": {},
   "outputs": [],
   "source": [
    "content(\n",
    "    \"To be in Data Science and Machine Learning, you must learn Data Science and Machine Learning. Let's \" +\n",
    "    \"discover where most people prefer to do courses.\"\n",
    ")"
   ]
  },
  {
   "cell_type": "code",
   "execution_count": null,
   "metadata": {},
   "outputs": [],
   "source": [
    "course_cols = [\n",
    "    'Q37_Part_1', 'Q37_Part_2', 'Q37_Part_3', 'Q37_Part_4', 'Q37_Part_5', 'Q37_Part_6', 'Q37_Part_7', \n",
    "    'Q37_Part_8', 'Q37_Part_9', 'Q37_Part_10', 'Q37_Part_11', 'Q37_OTHER'\n",
    "]\n",
    "\n",
    "df = data.loc[1:, [\"Q2\"] + course_cols]\n",
    "\n",
    "course = [\n",
    "    \"Coursera\", \"edX\", \"Kaggle\", \"DataCamp\", \"Fast.ai\", \"Udacity\", \"Udemy\", \"LinkedIn\", \"Cloud-certification\",\n",
    "    \"University\", \"None\", \"Other\"\n",
    "]\n",
    "df.columns = [\"gender\"] + course\n",
    "\n",
    "df[df[course].notnull()] = 1\n",
    "df = df.fillna(0)\n",
    "    \n",
    "df = df.groupby([\"gender\"]).sum()\n",
    "    \n",
    "df = df.apply(lambda x: x/x.sum()*100, axis = 1)\n",
    "\n",
    "df.columns.name = \"course\"\n",
    "df = df.unstack().reset_index(name = \"count\")\n",
    "\n",
    "df = df.sort_values([\"gender\", \"course\"], ignore_index = True)"
   ]
  },
  {
   "cell_type": "code",
   "execution_count": null,
   "metadata": {},
   "outputs": [],
   "source": [
    "plt.subplots(figsize = (25, 5))\n",
    "for i, c in enumerate(categories):\n",
    "    plt.subplot(1, 5, i+1)\n",
    "    (markerline, stemlines, baseline) = plt.stem(\n",
    "        df[df[\"gender\"] == c][\"course\"].values,\n",
    "        df[df[\"gender\"] == c][\"count\"].values, \n",
    "    )\n",
    "    plt.setp(\n",
    "        markerline, \n",
    "        marker = '*', \n",
    "        markersize = 15,\n",
    "        markeredgewidth = 2, \n",
    "        color = palette[i]\n",
    "    )\n",
    "    plt.setp(stemlines, color = palette[i])\n",
    "    plt.setp(baseline, visible = False)\n",
    "    plt.tick_params(labelsize = 12)\n",
    "    plt.xticks(rotation = 90)\n",
    "    \n",
    "    plt.xlabel(\"Course\")\n",
    "    plt.ylabel(\"Number of Kagglers\")\n",
    "    \n",
    "plt.tight_layout()"
   ]
  },
  {
   "cell_type": "code",
   "execution_count": null,
   "metadata": {},
   "outputs": [],
   "source": [
    "content(\n",
    "    \"The patterns are fairly consistent across 5 gender categories. They all prefer Coursera most. Kaggle \" +\n",
    "    \"and Udemy are other popular options.\"\n",
    ")"
   ]
  },
  {
   "cell_type": "markdown",
   "metadata": {},
   "source": [
    "# What is the primary tool that you use at work or school to analyze data? (Include text response)"
   ]
  },
  {
   "cell_type": "code",
   "execution_count": null,
   "metadata": {},
   "outputs": [],
   "source": [
    "content(\n",
    "    \"Let's see which tools people subscribing to different gender identities prefer to use to analyze data.\"\n",
    ")"
   ]
  },
  {
   "cell_type": "code",
   "execution_count": null,
   "metadata": {},
   "outputs": [],
   "source": [
    "df = data.loc[1:, [\"Q2\", \"Q38\"]].dropna().reset_index(drop = True)\n",
    "\n",
    "df = df.rename(columns = {\n",
    "    \"Q2\": \"gender\",\n",
    "    \"Q38\": \"analysis\"\n",
    "})\n",
    "\n",
    "df[\"analysis\"] = df[\"analysis\"].replace({\n",
    "    'Advanced statistical software (SPSS, SAS, etc.)': \"Advanced Statistics Software\",\n",
    "    'Basic statistical software (Microsoft Excel, Google Sheets, etc.)': \"Basic Statistics Software\",\n",
    "    'Business intelligence software (Salesforce, Tableau, Spotfire, etc.)': \"BI Software\",\n",
    "    'Cloud-based data software & APIs (AWS, GCP, Azure, etc.)': \"Cloud based software\",\n",
    "    'Local development environments (RStudio, JupyterLab, etc.)': \"Local Softwares\",\n",
    "})\n",
    "\n",
    "df = df.groupby([\"gender\", \"analysis\"]).agg(\n",
    "    count = pd.NamedAgg(\"gender\", \"count\")\n",
    ").reset_index()\n",
    "\n",
    "df[\"normal_gender_count\"] = df.groupby([\"gender\"])[\"count\"].transform(lambda x: x/x.sum() * 100)\n",
    "\n",
    "df[\"gender\"] = pd.Categorical(\n",
    "    df[\"gender\"],\n",
    "    categories = categories,\n",
    "    ordered = True\n",
    ")"
   ]
  },
  {
   "cell_type": "code",
   "execution_count": null,
   "metadata": {},
   "outputs": [],
   "source": [
    "for c in set(df[\"analysis\"]):\n",
    "    temp = df[df[\"analysis\"] == c]\n",
    "\n",
    "    labels = list(temp[\"gender\"])\n",
    "    values = list(temp[\"normal_gender_count\"])\n",
    "    \n",
    "    #number of data points\n",
    "    n = len(values)\n",
    "    #find max value for full ring\n",
    "    k = 10 ** int(log10(max(values)))\n",
    "    m = k * (1 + max(values) // k)\n",
    "\n",
    "    #radius of donut chart\n",
    "    r = 1.5\n",
    "    #calculate width of each ring\n",
    "    w = r / n \n",
    "\n",
    "    #create figure, axis\n",
    "    fig, ax = plt.subplots()\n",
    "    ax.axis(\"equal\")\n",
    "\n",
    "    #create rings of donut chart\n",
    "    for i in range(n):\n",
    "        #hide labels in segments with textprops: alpha = 0 - transparent, alpha = 1 - visible\n",
    "        innerring, _ = ax.pie(\n",
    "            [m - values[i], values[i]], \n",
    "            radius = r - i * w, \n",
    "            startangle = 90, \n",
    "            labels = [\"\", labels[i]], \n",
    "            labeldistance = 1 - 1 / (1.5 * (n - i)), \n",
    "            textprops = {\"alpha\": 0}, \n",
    "            colors = [\"white\", palette[i]]\n",
    "        )\n",
    "        plt.setp(innerring, width = w, edgecolor = \"white\")\n",
    "\n",
    "    plt.legend(loc = \"upper center\")\n",
    "    plt.title(c)\n",
    "    plt.ylim(0, 3)\n",
    "    plt.show()"
   ]
  },
  {
   "cell_type": "code",
   "execution_count": null,
   "metadata": {},
   "outputs": [],
   "source": [
    "content(\n",
    "    \"Local software appear to be the most common choice across the gender groups. Other patterns are not \" +\n",
    "    \"so apparent. Different gender groups seem to like different products to different degrees.\"\n",
    ")"
   ]
  },
  {
   "cell_type": "markdown",
   "metadata": {},
   "source": [
    "# Who/what are your favorite media sources that report on data science topics? (Select all that apply)"
   ]
  },
  {
   "cell_type": "code",
   "execution_count": null,
   "metadata": {},
   "outputs": [],
   "source": [
    "content(\n",
    "    \"To remain updated with the latest developments in Data Science and Machine Learning, it is important \" +\n",
    "    \"find a good source of reliable information. Let's see which media sources people use to learn more \" +\n",
    "    \"about Data Science and Machine Learning topics.\"\n",
    ")"
   ]
  },
  {
   "cell_type": "code",
   "execution_count": null,
   "metadata": {},
   "outputs": [],
   "source": [
    "media_cols = [\n",
    "    'Q39_Part_1', 'Q39_Part_2', 'Q39_Part_3', 'Q39_Part_4', 'Q39_Part_5', 'Q39_Part_6', 'Q39_Part_7', \n",
    "    'Q39_Part_8', 'Q39_Part_9', 'Q39_Part_10', 'Q39_Part_11', 'Q39_OTHER'\n",
    "]\n",
    "\n",
    "df = data.loc[1:, [\"Q2\"] + media_cols]\n",
    "\n",
    "media = [\n",
    "    \"Twitter\", \"Email newsletters\", \"Reddit\", \"Kaggle\", \"Course Forums\", \"YouTube\", \"Podcasts\", \"Blogs\",\n",
    "    \"Journal Publications\", \"Slack Communities\", \"None\", \"Other\"\n",
    "]\n",
    "df.columns = [\"gender\"] + media\n",
    "\n",
    "df[df[media].notnull()] = 1\n",
    "df = df.fillna(0)\n",
    "\n",
    "df[\"gender\"] = pd.Categorical(\n",
    "    df[\"gender\"],\n",
    "    categories = categories,\n",
    "    ordered = True\n",
    ")\n",
    "    \n",
    "df = df.groupby([\"gender\"]).sum()\n",
    "    \n",
    "df = df.apply(lambda x: x/x.sum(), axis = 1)\n",
    "df.columns.name = \"media\""
   ]
  },
  {
   "cell_type": "code",
   "execution_count": null,
   "metadata": {},
   "outputs": [],
   "source": [
    "plt.figure(figsize = (10, 8))\n",
    "for i, c in enumerate(categories):\n",
    "    (markerline, stemlines, baseline) = plt.stem(\n",
    "        df.columns,\n",
    "        df.loc[c]\n",
    "    )\n",
    "    plt.setp(\n",
    "        markerline, \n",
    "        marker = 'o', \n",
    "        markersize = 15,\n",
    "        markeredgewidth = 2, \n",
    "        color = palette[i]\n",
    "    )\n",
    "    plt.setp(stemlines, color = \"gold\")\n",
    "    plt.setp(baseline, visible = False)\n",
    "    plt.tick_params(labelsize = 12)\n",
    "    plt.xticks(rotation = 80)\n",
    "    plt.ylim(-0.05, 0.3)\n",
    "    \n",
    "    plt.xlabel(\"Media Sources\")\n",
    "    plt.ylabel(\"Number of Kagglers (Normalized)\")\n",
    "    \n",
    "    plt.legend(categories)\n",
    "    plt.title(\"Gender distribution over media\")\n",
    "    \n",
    "plt.tight_layout()"
   ]
  },
  {
   "cell_type": "code",
   "execution_count": null,
   "metadata": {},
   "outputs": [],
   "source": [
    "content(\n",
    "    \"We observe a regular pattern across the gender groups. They cluster together for each category. This \" +\n",
    "    \"demonstrates how similar gender groups are in the choices they make. Most learn new things directly \" +\n",
    "    \"on Kaggle. YouTube and Blogs are other popular options.\"\n",
    ")"
   ]
  },
  {
   "cell_type": "markdown",
   "metadata": {},
   "source": [
    "# Conclusion"
   ]
  },
  {
   "cell_type": "code",
   "execution_count": null,
   "metadata": {},
   "outputs": [],
   "source": [
    "content(\n",
    "    \"Let's ask ourselves the same question we started off with - How does gender influence the decisions \" + \n",
    "    \"the Data Science and Machine Learning community makes? What do you think is the answer? I believe \" +\n",
    "    \"that gender does affect the choice people make, but only a little bit. That little bit makes all the \" +\n",
    "    \"difference in defining who we are. But the big picture is that we all are the same. :D\" + \"\\n\\n\" +\n",
    "    \"If you like my work or if you learned something new, consider giving me an UPVOTE. Thanks a lot.\"\n",
    ")"
   ]
  },
  {
   "cell_type": "code",
   "execution_count": null,
   "metadata": {},
   "outputs": [],
   "source": [
    "content(\n",
    "    \"Credits - Sharlto Cope and Harveen Singh Chadha. I learnt quite a lot from their notebooks.\"\n",
    ")"
   ]
  },
  {
   "cell_type": "code",
   "execution_count": null,
   "metadata": {},
   "outputs": [],
   "source": []
  }
 ],
 "metadata": {
  "kernelspec": {
   "display_name": "Python 3",
   "language": "python",
   "name": "python3"
  },
  "language_info": {
   "codemirror_mode": {
    "name": "ipython",
    "version": 3
   },
   "file_extension": ".py",
   "mimetype": "text/x-python",
   "name": "python",
   "nbconvert_exporter": "python",
   "pygments_lexer": "ipython3",
   "version": "3.8.5"
  }
 },
 "nbformat": 4,
 "nbformat_minor": 4
}
